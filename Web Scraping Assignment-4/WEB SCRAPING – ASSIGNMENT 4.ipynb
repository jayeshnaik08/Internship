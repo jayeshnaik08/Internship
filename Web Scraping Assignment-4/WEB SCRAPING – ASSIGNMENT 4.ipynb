{
 "cells": [
  {
   "cell_type": "code",
   "execution_count": 1,
   "id": "135e261d",
   "metadata": {},
   "outputs": [],
   "source": [
    "import selenium\n",
    "import pandas as pd\n",
    "from selenium import webdriver\n",
    "import warnings\n",
    "warnings.filterwarnings(\"ignore\")\n",
    "from selenium.common.exceptions import StaleElementReferenceException, NoSuchElementException\n",
    "from selenium.webdriver.common.by import By\n",
    "import time"
   ]
  },
  {
   "cell_type": "markdown",
   "id": "b32b9677",
   "metadata": {},
   "source": [
    "# 1. Scrape the details of most viewed videos on YouTube from Wikipedia."
   ]
  },
  {
   "cell_type": "code",
   "execution_count": 3,
   "id": "d0ff47d5",
   "metadata": {},
   "outputs": [],
   "source": [
    "driver=webdriver.Chrome(r\"C:\\Users\\jayes\\Downloads\\chromedriver_win32\\chromedriver.exe\")"
   ]
  },
  {
   "cell_type": "code",
   "execution_count": 3,
   "id": "cf528973",
   "metadata": {},
   "outputs": [],
   "source": [
    "driver.get(\"https://en.wikipedia.org/wiki/List_of_most-viewed_YouTube_videos\")"
   ]
  },
  {
   "cell_type": "markdown",
   "id": "f395d186",
   "metadata": {},
   "source": [
    "Get the url of website"
   ]
  },
  {
   "cell_type": "code",
   "execution_count": 75,
   "id": "e562bbcb",
   "metadata": {},
   "outputs": [],
   "source": [
    "a=[]\n",
    "title_tags=driver.find_elements(By.XPATH,'//td')\n",
    "for i in title_tags[0:181]:\n",
    "    title=i.text\n",
    "    a.append(title)"
   ]
  },
  {
   "cell_type": "markdown",
   "id": "4eb4eb2d",
   "metadata": {},
   "source": [
    "Get the data from the table"
   ]
  },
  {
   "cell_type": "code",
   "execution_count": 92,
   "id": "420df4f5",
   "metadata": {},
   "outputs": [],
   "source": [
    "rank=[]\n",
    "for i in range(2,len(a),6):\n",
    "    rank.append(a[i][:-1])\n",
    "    \n",
    "name=[]\n",
    "for i in range(3,len(a),6):\n",
    "    name.append(a[i][1:-4])\n",
    "    \n",
    "up=[]\n",
    "for i in range(4,len(a),6):\n",
    "    up.append(a[i])\n",
    "    \n",
    "view=[]\n",
    "for i in range(5,len(a),6):\n",
    "    view.append(a[i])\n",
    "    \n",
    "date=[]\n",
    "for i in range(6,len(a),6):\n",
    "    date.append(a[i])"
   ]
  },
  {
   "cell_type": "markdown",
   "id": "37785a1f",
   "metadata": {},
   "source": [
    "Extract rank, name, uploaded date and views of the videos from table."
   ]
  },
  {
   "cell_type": "code",
   "execution_count": 93,
   "id": "7a285fe6",
   "metadata": {
    "scrolled": true
   },
   "outputs": [
    {
     "data": {
      "text/html": [
       "<div>\n",
       "<style scoped>\n",
       "    .dataframe tbody tr th:only-of-type {\n",
       "        vertical-align: middle;\n",
       "    }\n",
       "\n",
       "    .dataframe tbody tr th {\n",
       "        vertical-align: top;\n",
       "    }\n",
       "\n",
       "    .dataframe thead th {\n",
       "        text-align: right;\n",
       "    }\n",
       "</style>\n",
       "<table border=\"1\" class=\"dataframe\">\n",
       "  <thead>\n",
       "    <tr style=\"text-align: right;\">\n",
       "      <th></th>\n",
       "      <th>Rank</th>\n",
       "      <th>Name</th>\n",
       "      <th>Artist</th>\n",
       "      <th>Views (in billions)</th>\n",
       "      <th>Upload Date</th>\n",
       "    </tr>\n",
       "  </thead>\n",
       "  <tbody>\n",
       "    <tr>\n",
       "      <th>0</th>\n",
       "      <td>1</td>\n",
       "      <td>Baby Shark Dance</td>\n",
       "      <td>Pinkfong Baby Shark - Kids' Songs &amp; Stories</td>\n",
       "      <td>11.58</td>\n",
       "      <td>June 17, 2016</td>\n",
       "    </tr>\n",
       "    <tr>\n",
       "      <th>1</th>\n",
       "      <td>2</td>\n",
       "      <td>Despacito</td>\n",
       "      <td>Luis Fonsi</td>\n",
       "      <td>7.99</td>\n",
       "      <td>January 12, 2017</td>\n",
       "    </tr>\n",
       "    <tr>\n",
       "      <th>2</th>\n",
       "      <td>3</td>\n",
       "      <td>Johny Johny Yes Papa\"</td>\n",
       "      <td>LooLoo Kids</td>\n",
       "      <td>6.50</td>\n",
       "      <td>October 8, 2016</td>\n",
       "    </tr>\n",
       "    <tr>\n",
       "      <th>3</th>\n",
       "      <td>4</td>\n",
       "      <td>Shape of You\"</td>\n",
       "      <td>Ed Sheeran</td>\n",
       "      <td>5.83</td>\n",
       "      <td>January 30, 2017</td>\n",
       "    </tr>\n",
       "    <tr>\n",
       "      <th>4</th>\n",
       "      <td>5</td>\n",
       "      <td>Bath Song\"</td>\n",
       "      <td>Cocomelon – Nursery Rhymes</td>\n",
       "      <td>5.68</td>\n",
       "      <td>May 2, 2018</td>\n",
       "    </tr>\n",
       "  </tbody>\n",
       "</table>\n",
       "</div>"
      ],
      "text/plain": [
       "  Rank                   Name                                       Artist  \\\n",
       "0    1       Baby Shark Dance  Pinkfong Baby Shark - Kids' Songs & Stories   \n",
       "1    2              Despacito                                   Luis Fonsi   \n",
       "2    3  Johny Johny Yes Papa\"                                  LooLoo Kids   \n",
       "3    4          Shape of You\"                                   Ed Sheeran   \n",
       "4    5             Bath Song\"                   Cocomelon – Nursery Rhymes   \n",
       "\n",
       "  Views (in billions)      Upload Date   \n",
       "0               11.58     June 17, 2016  \n",
       "1                7.99  January 12, 2017  \n",
       "2                6.50   October 8, 2016  \n",
       "3                5.83  January 30, 2017  \n",
       "4                5.68       May 2, 2018  "
      ]
     },
     "execution_count": 93,
     "metadata": {},
     "output_type": "execute_result"
    }
   ],
   "source": [
    "df=pd.DataFrame({\"Rank\":rank,\"Name\":name,\"Artist\":up,\"Views (in billions)\":view,\"Upload Date \":date})\n",
    "df.head()"
   ]
  },
  {
   "cell_type": "code",
   "execution_count": 94,
   "id": "329f6fd5",
   "metadata": {},
   "outputs": [],
   "source": [
    "driver.close()"
   ]
  },
  {
   "cell_type": "markdown",
   "id": "cd0e75ff",
   "metadata": {},
   "source": [
    "# 2. Scrape the details team India’s international fixtures from bcci.tv"
   ]
  },
  {
   "cell_type": "code",
   "execution_count": 46,
   "id": "d00134e8",
   "metadata": {},
   "outputs": [],
   "source": [
    "driver=webdriver.Chrome(r\"C:\\Users\\jayes\\Downloads\\chromedriver_win32\\chromedriver.exe\")"
   ]
  },
  {
   "cell_type": "code",
   "execution_count": 47,
   "id": "0714dc4a",
   "metadata": {},
   "outputs": [],
   "source": [
    "driver.get(\"http://www.bcci.tv/\")"
   ]
  },
  {
   "cell_type": "markdown",
   "id": "1ec6e31b",
   "metadata": {},
   "source": [
    "Get the url of website"
   ]
  },
  {
   "cell_type": "code",
   "execution_count": 48,
   "id": "68dd5411",
   "metadata": {},
   "outputs": [],
   "source": [
    "driver.find_element(By.XPATH,\"//a[text()='INTERNATIONAL']\").click()\n",
    "driver.implicitly_wait(20)"
   ]
  },
  {
   "cell_type": "markdown",
   "id": "603d1ce1",
   "metadata": {},
   "source": [
    "Select \"International\" from the menu bar in header of the webpage."
   ]
  },
  {
   "cell_type": "code",
   "execution_count": 49,
   "id": "9d1fd74d",
   "metadata": {
    "scrolled": false
   },
   "outputs": [
    {
     "name": "stdout",
     "output_type": "stream",
     "text": [
      "Exception Raised\n",
      " Message: element click intercepted: Element <div class=\"cSBDisplay ng-binding\" ng-click=\"cSBShowList($event)\">...</div> is not clickable at point (508, 340). Other element would receive the click: <div class=\"tab-pane fade show active fixturesresultswidget\" id=\"fixtures\" role=\"tabpanel\" aria-labelledby=\"fixtures-tab\">...</div>\n",
      "  (Session info: chrome=106.0.5249.119)\n",
      "Stacktrace:\n",
      "Backtrace:\n",
      "\tOrdinal0 [0x00D0DF13+2219795]\n",
      "\tOrdinal0 [0x00CA2841+1779777]\n",
      "\tOrdinal0 [0x00BB423D+803389]\n",
      "\tOrdinal0 [0x00BE99D4+1022420]\n",
      "\tOrdinal0 [0x00BE78C4+1013956]\n",
      "\tOrdinal0 [0x00BE54AB+1004715]\n",
      "\tOrdinal0 [0x00BE4117+999703]\n",
      "\tOrdinal0 [0x00BD9B76+957302]\n",
      "\tOrdinal0 [0x00BFE7FC+1107964]\n",
      "\tOrdinal0 [0x00BD94B4+955572]\n",
      "\tOrdinal0 [0x00BFEA14+1108500]\n",
      "\tOrdinal0 [0x00C0F192+1175954]\n",
      "\tOrdinal0 [0x00BFE616+1107478]\n",
      "\tOrdinal0 [0x00BD7F89+950153]\n",
      "\tOrdinal0 [0x00BD8F56+954198]\n",
      "\tGetHandleVerifier [0x01002CB2+3040210]\n",
      "\tGetHandleVerifier [0x00FF2BB4+2974420]\n",
      "\tGetHandleVerifier [0x00DA6A0A+565546]\n",
      "\tGetHandleVerifier [0x00DA5680+560544]\n",
      "\tOrdinal0 [0x00CA9A5C+1808988]\n",
      "\tOrdinal0 [0x00CAE3A8+1827752]\n",
      "\tOrdinal0 [0x00CAE495+1827989]\n",
      "\tOrdinal0 [0x00CB80A4+1867940]\n",
      "\tBaseThreadInitThunk [0x76C26359+25]\n",
      "\tRtlGetAppContainerNamedObjectPath [0x778487A4+228]\n",
      "\tRtlGetAppContainerNamedObjectPath [0x77848774+180]\n",
      " \n",
      "\n",
      "\n",
      "Exception Successfully handled\n"
     ]
    }
   ],
   "source": [
    "from selenium.common.exceptions import ElementClickInterceptedException\n",
    "try:\n",
    "    driver.find_element(By.XPATH,'//div[text()=\"All Formats\"]').click()\n",
    "except ElementClickInterceptedException as e:\n",
    "    print(\"Exception Raised\\n\",e,\"\\n\")\n",
    "    driver.find_element(By.XPATH,\"/html/body/div[6]/button\").click()\n",
    "    print(\"\\nException Successfully handled\")"
   ]
  },
  {
   "cell_type": "markdown",
   "id": "85ca1f1f",
   "metadata": {},
   "source": [
    "Handle cookies pop up."
   ]
  },
  {
   "cell_type": "code",
   "execution_count": 50,
   "id": "ff762d14",
   "metadata": {},
   "outputs": [],
   "source": [
    "driver.find_element(By.XPATH,\"//div[text()='All Formats']\").click()"
   ]
  },
  {
   "cell_type": "markdown",
   "id": "75dedb65",
   "metadata": {},
   "source": [
    "Access \"All Format\" dropdown from menu under the Fixture header."
   ]
  },
  {
   "cell_type": "code",
   "execution_count": 51,
   "id": "cac340bd",
   "metadata": {},
   "outputs": [],
   "source": [
    "driver.find_element(By.XPATH,\"//div[text()='ODI']\").click()"
   ]
  },
  {
   "cell_type": "markdown",
   "id": "7d416c49",
   "metadata": {},
   "source": [
    "Select ODI from dropdown of \"All Format\""
   ]
  },
  {
   "cell_type": "code",
   "execution_count": 63,
   "id": "0e8cfed2",
   "metadata": {},
   "outputs": [],
   "source": [
    "title=[]\n",
    "title_tags=driver.find_elements(By.XPATH,'//span[@class=\"matchOrderText ng-binding ng-scope\"]')\n",
    "for i in title_tags:\n",
    "    title.append(i.text[:-1])\n",
    "    \n",
    "series=[]\n",
    "series_tags=driver.find_elements(By.XPATH,'//span[@class=\"ng-binding\"]')\n",
    "for i in series_tags:\n",
    "    series.append(i.text)\n",
    "\n",
    "place=[]\n",
    "place_tags=driver.find_elements(By.XPATH,'//div[@class=\"fix-place ng-binding ng-scope\"]')\n",
    "for i in place_tags:\n",
    "    place.append(i.text[9:])\n",
    "    \n",
    "date=[]\n",
    "date_tags=driver.find_elements(By.XPATH,'//h5[@class=\"ng-binding\"]')\n",
    "for i in date_tags:\n",
    "    date.append(i.text)\n",
    "\n",
    "time=[]\n",
    "time_tags=driver.find_elements(By.XPATH,'//h5[@class=\"text-right ng-binding\"]')\n",
    "for i in time_tags:\n",
    "    time.append(i.text[:-4])"
   ]
  },
  {
   "cell_type": "markdown",
   "id": "c13d6c3d",
   "metadata": {},
   "source": [
    "Extract title, series, place and date of each IOD fixture displayed on webpage."
   ]
  },
  {
   "cell_type": "code",
   "execution_count": 64,
   "id": "dc3fc7d3",
   "metadata": {},
   "outputs": [
    {
     "data": {
      "text/html": [
       "<div>\n",
       "<style scoped>\n",
       "    .dataframe tbody tr th:only-of-type {\n",
       "        vertical-align: middle;\n",
       "    }\n",
       "\n",
       "    .dataframe tbody tr th {\n",
       "        vertical-align: top;\n",
       "    }\n",
       "\n",
       "    .dataframe thead th {\n",
       "        text-align: right;\n",
       "    }\n",
       "</style>\n",
       "<table border=\"1\" class=\"dataframe\">\n",
       "  <thead>\n",
       "    <tr style=\"text-align: right;\">\n",
       "      <th></th>\n",
       "      <th>Title</th>\n",
       "      <th>Series</th>\n",
       "      <th>Date</th>\n",
       "      <th>Time (IST)</th>\n",
       "    </tr>\n",
       "  </thead>\n",
       "  <tbody>\n",
       "    <tr>\n",
       "      <th>0</th>\n",
       "      <td>1st ODI</td>\n",
       "      <td>INDIA TOUR OF NEW ZEALAND ODI SERIES 2022-23</td>\n",
       "      <td>25 NOV 2022</td>\n",
       "      <td>7:00 AM</td>\n",
       "    </tr>\n",
       "    <tr>\n",
       "      <th>1</th>\n",
       "      <td>2nd ODI</td>\n",
       "      <td>INDIA TOUR OF NEW ZEALAND ODI SERIES 2022-23</td>\n",
       "      <td>27 NOV 2022</td>\n",
       "      <td>7:00 AM</td>\n",
       "    </tr>\n",
       "    <tr>\n",
       "      <th>2</th>\n",
       "      <td>3rd ODI</td>\n",
       "      <td>INDIA TOUR OF NEW ZEALAND ODI SERIES 2022-23</td>\n",
       "      <td>30 NOV 2022</td>\n",
       "      <td>7:00 AM</td>\n",
       "    </tr>\n",
       "    <tr>\n",
       "      <th>3</th>\n",
       "      <td>1st ODI</td>\n",
       "      <td>INDIA TOUR OF BANGLADESH ODI SERIES 2022-23</td>\n",
       "      <td>4 DEC 2022</td>\n",
       "      <td>12:30 PM</td>\n",
       "    </tr>\n",
       "    <tr>\n",
       "      <th>4</th>\n",
       "      <td>2nd ODI</td>\n",
       "      <td>INDIA TOUR OF BANGLADESH ODI SERIES 2022-23</td>\n",
       "      <td>7 DEC 2022</td>\n",
       "      <td>12:30 PM</td>\n",
       "    </tr>\n",
       "  </tbody>\n",
       "</table>\n",
       "</div>"
      ],
      "text/plain": [
       "      Title                                        Series         Date  \\\n",
       "0  1st ODI   INDIA TOUR OF NEW ZEALAND ODI SERIES 2022-23  25 NOV 2022   \n",
       "1  2nd ODI   INDIA TOUR OF NEW ZEALAND ODI SERIES 2022-23  27 NOV 2022   \n",
       "2  3rd ODI   INDIA TOUR OF NEW ZEALAND ODI SERIES 2022-23  30 NOV 2022   \n",
       "3  1st ODI    INDIA TOUR OF BANGLADESH ODI SERIES 2022-23   4 DEC 2022   \n",
       "4  2nd ODI    INDIA TOUR OF BANGLADESH ODI SERIES 2022-23   7 DEC 2022   \n",
       "\n",
       "  Time (IST)  \n",
       "0    7:00 AM  \n",
       "1    7:00 AM  \n",
       "2    7:00 AM  \n",
       "3   12:30 PM  \n",
       "4   12:30 PM  "
      ]
     },
     "execution_count": 64,
     "metadata": {},
     "output_type": "execute_result"
    }
   ],
   "source": [
    "df2=pd.DataFrame({\"Title\":title,\"Series\":series,\"Date\":date,\"Time (IST)\":time})\n",
    "df2.head()"
   ]
  },
  {
   "cell_type": "code",
   "execution_count": 65,
   "id": "46aaf699",
   "metadata": {},
   "outputs": [],
   "source": [
    "driver.close()"
   ]
  },
  {
   "cell_type": "markdown",
   "id": "99e1f5ab",
   "metadata": {},
   "source": [
    "# 3. Scrape the details of State-wise GDP of India from statisticstime.com."
   ]
  },
  {
   "cell_type": "code",
   "execution_count": 108,
   "id": "a6cd5b5f",
   "metadata": {},
   "outputs": [],
   "source": [
    "driver=webdriver.Chrome(r\"C:\\Users\\jayes\\Downloads\\chromedriver_win32\\chromedriver.exe\")"
   ]
  },
  {
   "cell_type": "code",
   "execution_count": 109,
   "id": "3126f345",
   "metadata": {},
   "outputs": [],
   "source": [
    "driver.get(\"https://www.statisticstimes.com/\")"
   ]
  },
  {
   "cell_type": "markdown",
   "id": "2fdb0f6f",
   "metadata": {},
   "source": [
    "Get the url of website"
   ]
  },
  {
   "cell_type": "code",
   "execution_count": 110,
   "id": "ddebd4b9",
   "metadata": {},
   "outputs": [],
   "source": [
    "find=driver.find_element(By.XPATH,'/html/body/div[2]/div[1]/div[2]/div[2]/button')\n",
    "find.click()"
   ]
  },
  {
   "cell_type": "markdown",
   "id": "4a72a72b",
   "metadata": {},
   "source": [
    "Access Economy from website menu bar"
   ]
  },
  {
   "cell_type": "code",
   "execution_count": 111,
   "id": "d4f4838e",
   "metadata": {
    "scrolled": true
   },
   "outputs": [
    {
     "name": "stdout",
     "output_type": "stream",
     "text": [
      "Exception Raised\n",
      " Message: element not interactable\n",
      "  (Session info: chrome=106.0.5249.119)\n",
      "Stacktrace:\n",
      "Backtrace:\n",
      "\tOrdinal0 [0x0075DF13+2219795]\n",
      "\tOrdinal0 [0x006F2841+1779777]\n",
      "\tOrdinal0 [0x00604100+803072]\n",
      "\tOrdinal0 [0x00633FB6+999350]\n",
      "\tOrdinal0 [0x00629B76+957302]\n",
      "\tOrdinal0 [0x0064E7FC+1107964]\n",
      "\tOrdinal0 [0x006294B4+955572]\n",
      "\tOrdinal0 [0x0064EA14+1108500]\n",
      "\tOrdinal0 [0x0065F192+1175954]\n",
      "\tOrdinal0 [0x0064E616+1107478]\n",
      "\tOrdinal0 [0x00627F89+950153]\n",
      "\tOrdinal0 [0x00628F56+954198]\n",
      "\tGetHandleVerifier [0x00A52CB2+3040210]\n",
      "\tGetHandleVerifier [0x00A42BB4+2974420]\n",
      "\tGetHandleVerifier [0x007F6A0A+565546]\n",
      "\tGetHandleVerifier [0x007F5680+560544]\n",
      "\tOrdinal0 [0x006F9A5C+1808988]\n",
      "\tOrdinal0 [0x006FE3A8+1827752]\n",
      "\tOrdinal0 [0x006FE495+1827989]\n",
      "\tOrdinal0 [0x007080A4+1867940]\n",
      "\tBaseThreadInitThunk [0x76086359+25]\n",
      "\tRtlGetAppContainerNamedObjectPath [0x777587A4+228]\n",
      "\tRtlGetAppContainerNamedObjectPath [0x77758774+180]\n",
      " \n",
      "\n",
      "\n",
      "Exception Successfully handled\n"
     ]
    }
   ],
   "source": [
    "from selenium.common.exceptions import ElementNotInteractableException\n",
    "try:\n",
    "    find=driver.find_element(By.XPATH,'//a[text()=\"India\"]').click()\n",
    "except ElementNotInteractableException as e:\n",
    "    print(\"Exception Raised\\n\",e,\"\\n\")\n",
    "    find=driver.find_element(By.XPATH,'/html/body/div[2]/div[1]/div[2]/div[2]/div/a[3]').click()\n",
    "    print(\"\\nException Successfully handled\")"
   ]
  },
  {
   "cell_type": "markdown",
   "id": "50b7e7e4",
   "metadata": {},
   "source": [
    "Select India from Economy Dropdown in menu bar"
   ]
  },
  {
   "cell_type": "code",
   "execution_count": 112,
   "id": "5ecd30dd",
   "metadata": {
    "scrolled": true
   },
   "outputs": [
    {
     "name": "stdout",
     "output_type": "stream",
     "text": [
      "Exception Raised\n",
      " Message: no such element: Unable to locate element: {\"method\":\"xpath\",\"selector\":\"/html/body/div[2]/div[2]/div[2]/ul/li[1]/a\"}\n",
      "  (Session info: chrome=106.0.5249.119)\n",
      "Stacktrace:\n",
      "Backtrace:\n",
      "\tOrdinal0 [0x0075DF13+2219795]\n",
      "\tOrdinal0 [0x006F2841+1779777]\n",
      "\tOrdinal0 [0x0060423D+803389]\n",
      "\tOrdinal0 [0x00633025+995365]\n",
      "\tOrdinal0 [0x006331EB+995819]\n",
      "\tOrdinal0 [0x00660F52+1183570]\n",
      "\tOrdinal0 [0x0064E844+1108036]\n",
      "\tOrdinal0 [0x0065F192+1175954]\n",
      "\tOrdinal0 [0x0064E616+1107478]\n",
      "\tOrdinal0 [0x00627F89+950153]\n",
      "\tOrdinal0 [0x00628F56+954198]\n",
      "\tGetHandleVerifier [0x00A52CB2+3040210]\n",
      "\tGetHandleVerifier [0x00A42BB4+2974420]\n",
      "\tGetHandleVerifier [0x007F6A0A+565546]\n",
      "\tGetHandleVerifier [0x007F5680+560544]\n",
      "\tOrdinal0 [0x006F9A5C+1808988]\n",
      "\tOrdinal0 [0x006FE3A8+1827752]\n",
      "\tOrdinal0 [0x006FE495+1827989]\n",
      "\tOrdinal0 [0x007080A4+1867940]\n",
      "\tBaseThreadInitThunk [0x76086359+25]\n",
      "\tRtlGetAppContainerNamedObjectPath [0x777587A4+228]\n",
      "\tRtlGetAppContainerNamedObjectPath [0x77758774+180]\n",
      " \n",
      "\n",
      "\n",
      "Exception Successfully handled\n"
     ]
    }
   ],
   "source": [
    "from selenium.common.exceptions import NoSuchElementException\n",
    "from selenium.webdriver.common.alert import Alert\n",
    "try:\n",
    "    find=driver.find_element(By.XPATH,'/html/body/div[2]/div[2]/div[2]/ul/li[1]/a')\n",
    "    find.click()\n",
    "except NoSuchElementException as e:\n",
    "    print(\"Exception Raised\\n\",e,\"\\n\")\n",
    "    driver.switch_to.frame(\"aswift_2\")\n",
    "    driver.switch_to.frame(\"ad_iframe\")\n",
    "    find=driver.find_element(By.XPATH,'/html/body/div[1]/div[2]/div[2]/div/div/div[2]/div/div/div[3]')\n",
    "    find.click()\n",
    "    driver.switch_to.default_content()\n",
    "    print(\"\\nException Successfully handled\")"
   ]
  },
  {
   "cell_type": "markdown",
   "id": "36286167",
   "metadata": {},
   "source": [
    "Closed google ad popup."
   ]
  },
  {
   "cell_type": "code",
   "execution_count": 113,
   "id": "274a0035",
   "metadata": {},
   "outputs": [],
   "source": [
    "find=driver.find_element(By.XPATH,'/html/body/div[2]/div[2]/div[2]/ul/li[1]/a')\n",
    "find.click()"
   ]
  },
  {
   "cell_type": "markdown",
   "id": "a42e90cd",
   "metadata": {},
   "source": [
    "Accessing GDP of Indian states from Indian states section appearing on the webpage."
   ]
  },
  {
   "cell_type": "code",
   "execution_count": 114,
   "id": "13b79548",
   "metadata": {},
   "outputs": [],
   "source": [
    "new=[]\n",
    "info_tags=driver.find_elements(By.XPATH,'//tr')\n",
    "for i in info_tags[4:37]:\n",
    "        new.append(i.text.split())"
   ]
  },
  {
   "cell_type": "markdown",
   "id": "433fcfe8",
   "metadata": {},
   "source": [
    "Extracting data from GSDP table."
   ]
  },
  {
   "cell_type": "code",
   "execution_count": 115,
   "id": "540aff7b",
   "metadata": {},
   "outputs": [],
   "source": [
    "rank=[]\n",
    "region=[]\n",
    "gsdp19=[]\n",
    "gsdp18=[]\n",
    "share18=[]\n",
    "gdp19=[]\n",
    "for i in range(len(new)):\n",
    "        rank.append(new[i][0])\n",
    "        if len(new[i])==8:\n",
    "            region.append(new[i][1])\n",
    "            gsdp19.append(new[i][2])\n",
    "            gsdp18.append(new[i][3])\n",
    "            share18.append(new[i][4])\n",
    "            gdp19.append(new[i][5])\n",
    "        elif len(new[i])==9:\n",
    "            region.append(new[i][1]+new[i][2])\n",
    "            gsdp19.append(new[i][3])\n",
    "            gsdp18.append(new[i][4])\n",
    "            share18.append(new[i][5])\n",
    "            gdp19.append(new[i][6])\n",
    "        elif len(new[i])==10:\n",
    "            region.append(new[i][1]+new[i][2]+new[i][3])\n",
    "            gsdp19.append(new[i][4])\n",
    "            gsdp18.append(new[i][5])\n",
    "            share18.append(new[i][6])\n",
    "            gdp19.append(new[i][7])\n",
    "        else:\n",
    "            region.append(new[i][1]+new[i][2]+new[i][3]+new[i][4])\n",
    "            gsdp19.append(new[i][5])\n",
    "            gsdp18.append(new[i][6])\n",
    "            share18.append(new[i][7])\n",
    "            gdp19.append(new[i][8])"
   ]
  },
  {
   "cell_type": "markdown",
   "id": "bf7a1106",
   "metadata": {},
   "source": [
    "Extracting data from each coloumn."
   ]
  },
  {
   "cell_type": "code",
   "execution_count": 116,
   "id": "9f4e0f85",
   "metadata": {
    "scrolled": false
   },
   "outputs": [
    {
     "data": {
      "text/html": [
       "<div>\n",
       "<style scoped>\n",
       "    .dataframe tbody tr th:only-of-type {\n",
       "        vertical-align: middle;\n",
       "    }\n",
       "\n",
       "    .dataframe tbody tr th {\n",
       "        vertical-align: top;\n",
       "    }\n",
       "\n",
       "    .dataframe thead th {\n",
       "        text-align: right;\n",
       "    }\n",
       "</style>\n",
       "<table border=\"1\" class=\"dataframe\">\n",
       "  <thead>\n",
       "    <tr style=\"text-align: right;\">\n",
       "      <th></th>\n",
       "      <th>Rank</th>\n",
       "      <th>State</th>\n",
       "      <th>GSDP 2019-20 (₹ crore)</th>\n",
       "      <th>GSDP 2018-19 (₹ crore)</th>\n",
       "      <th>Share 2018-19</th>\n",
       "      <th>GDP 2019 ($ Billion)</th>\n",
       "    </tr>\n",
       "  </thead>\n",
       "  <tbody>\n",
       "    <tr>\n",
       "      <th>0</th>\n",
       "      <td>1</td>\n",
       "      <td>Maharashtra</td>\n",
       "      <td>-</td>\n",
       "      <td>2,632,792</td>\n",
       "      <td>13.94%</td>\n",
       "      <td>399.921</td>\n",
       "    </tr>\n",
       "    <tr>\n",
       "      <th>1</th>\n",
       "      <td>2</td>\n",
       "      <td>TamilNadu</td>\n",
       "      <td>1,845,853</td>\n",
       "      <td>1,630,208</td>\n",
       "      <td>8.63%</td>\n",
       "      <td>247.629</td>\n",
       "    </tr>\n",
       "    <tr>\n",
       "      <th>2</th>\n",
       "      <td>3</td>\n",
       "      <td>UttarPradesh</td>\n",
       "      <td>1,687,818</td>\n",
       "      <td>1,584,764</td>\n",
       "      <td>8.39%</td>\n",
       "      <td>240.726</td>\n",
       "    </tr>\n",
       "    <tr>\n",
       "      <th>3</th>\n",
       "      <td>4</td>\n",
       "      <td>Gujarat</td>\n",
       "      <td>-</td>\n",
       "      <td>1,502,899</td>\n",
       "      <td>7.96%</td>\n",
       "      <td>228.290</td>\n",
       "    </tr>\n",
       "    <tr>\n",
       "      <th>4</th>\n",
       "      <td>5</td>\n",
       "      <td>Karnataka</td>\n",
       "      <td>1,631,977</td>\n",
       "      <td>1,493,127</td>\n",
       "      <td>7.91%</td>\n",
       "      <td>226.806</td>\n",
       "    </tr>\n",
       "  </tbody>\n",
       "</table>\n",
       "</div>"
      ],
      "text/plain": [
       "  Rank         State GSDP 2019-20 (₹ crore) GSDP 2018-19 (₹ crore)  \\\n",
       "0    1   Maharashtra                      -              2,632,792   \n",
       "1    2     TamilNadu              1,845,853              1,630,208   \n",
       "2    3  UttarPradesh              1,687,818              1,584,764   \n",
       "3    4       Gujarat                      -              1,502,899   \n",
       "4    5     Karnataka              1,631,977              1,493,127   \n",
       "\n",
       "  Share 2018-19 GDP 2019 ($ Billion)  \n",
       "0        13.94%              399.921  \n",
       "1         8.63%              247.629  \n",
       "2         8.39%              240.726  \n",
       "3         7.96%              228.290  \n",
       "4         7.91%              226.806  "
      ]
     },
     "execution_count": 116,
     "metadata": {},
     "output_type": "execute_result"
    }
   ],
   "source": [
    "df4=pd.DataFrame({\"Rank\":rank,\"State\":region,\"GSDP 2019-20 (₹ crore)\":gsdp19,\"GSDP 2018-19 (₹ crore)\":gsdp18,\"Share 2018-19\":share18,\"GDP 2019 ($ Billion)\":gdp19})\n",
    "df4.head()"
   ]
  },
  {
   "cell_type": "code",
   "execution_count": 117,
   "id": "50620bcb",
   "metadata": {},
   "outputs": [],
   "source": [
    "driver.close()"
   ]
  },
  {
   "cell_type": "markdown",
   "id": "0366ede8",
   "metadata": {},
   "source": [
    "# 4. Scrape the details of trending repositories on Github.com.\n"
   ]
  },
  {
   "cell_type": "code",
   "execution_count": 118,
   "id": "5dbd471e",
   "metadata": {},
   "outputs": [],
   "source": [
    "driver=webdriver.Chrome(r\"C:\\Users\\jayes\\Downloads\\chromedriver_win32\\chromedriver.exe\")"
   ]
  },
  {
   "cell_type": "code",
   "execution_count": 119,
   "id": "2f0f3f5a",
   "metadata": {},
   "outputs": [],
   "source": [
    "driver.get(\"https://github.com/\")"
   ]
  },
  {
   "cell_type": "markdown",
   "id": "8f92e371",
   "metadata": {},
   "source": [
    "Get the url of website"
   ]
  },
  {
   "cell_type": "code",
   "execution_count": 120,
   "id": "39b5e74f",
   "metadata": {},
   "outputs": [],
   "source": [
    "find=driver.find_element(By.XPATH,'/html/body/div[1]/header/div/div[2]/div/nav/ul/li[3]/button')\n",
    "find.click()"
   ]
  },
  {
   "cell_type": "markdown",
   "id": "00c01439",
   "metadata": {},
   "source": [
    "Accessing \"Open Source\" from menu bar"
   ]
  },
  {
   "cell_type": "code",
   "execution_count": 121,
   "id": "da0d72c4",
   "metadata": {},
   "outputs": [],
   "source": [
    "find=driver.find_element(By.XPATH,'/html/body/div[1]/header/div/div[2]/div/nav/ul/li[3]/div/ul[3]/li[3]/a')\n",
    "find.click()"
   ]
  },
  {
   "cell_type": "markdown",
   "id": "5519f1db",
   "metadata": {},
   "source": [
    "Accessing trending under \"Open Source\" dropdown menu."
   ]
  },
  {
   "cell_type": "code",
   "execution_count": 123,
   "id": "7ce03443",
   "metadata": {},
   "outputs": [],
   "source": [
    "name=[]\n",
    "title_tag=driver.find_elements(By.XPATH,'//h1[@class=\"h3 lh-condensed\"]')\n",
    "for i in title_tag:\n",
    "    name.append(i.text)"
   ]
  },
  {
   "cell_type": "markdown",
   "id": "86fa964e",
   "metadata": {},
   "source": [
    "Extracting repository name."
   ]
  },
  {
   "cell_type": "code",
   "execution_count": 312,
   "id": "57fe8e4e",
   "metadata": {},
   "outputs": [
    {
     "name": "stdout",
     "output_type": "stream",
     "text": [
      "Exception Raised\n",
      " Message: no such element: Unable to locate element: {\"method\":\"xpath\",\"selector\":\"/html/body/div[4]/main/div[3]/div/div[2]/article[3]/p\"}\n",
      "  (Session info: chrome=106.0.5249.119)\n",
      "Stacktrace:\n",
      "Backtrace:\n",
      "\tOrdinal0 [0x0075DF13+2219795]\n",
      "\tOrdinal0 [0x006F2841+1779777]\n",
      "\tOrdinal0 [0x0060423D+803389]\n",
      "\tOrdinal0 [0x00633025+995365]\n",
      "\tOrdinal0 [0x006331EB+995819]\n",
      "\tOrdinal0 [0x00660F52+1183570]\n",
      "\tOrdinal0 [0x0064E844+1108036]\n",
      "\tOrdinal0 [0x0065F192+1175954]\n",
      "\tOrdinal0 [0x0064E616+1107478]\n",
      "\tOrdinal0 [0x00627F89+950153]\n",
      "\tOrdinal0 [0x00628F56+954198]\n",
      "\tGetHandleVerifier [0x00A52CB2+3040210]\n",
      "\tGetHandleVerifier [0x00A42BB4+2974420]\n",
      "\tGetHandleVerifier [0x007F6A0A+565546]\n",
      "\tGetHandleVerifier [0x007F5680+560544]\n",
      "\tOrdinal0 [0x006F9A5C+1808988]\n",
      "\tOrdinal0 [0x006FE3A8+1827752]\n",
      "\tOrdinal0 [0x006FE495+1827989]\n",
      "\tOrdinal0 [0x007080A4+1867940]\n",
      "\tBaseThreadInitThunk [0x76086359+25]\n",
      "\tRtlGetAppContainerNamedObjectPath [0x777587A4+228]\n",
      "\tRtlGetAppContainerNamedObjectPath [0x77758774+180]\n",
      "\n"
     ]
    }
   ],
   "source": [
    "from selenium.common.exceptions import NoSuchElementException\n",
    "descriptions=[]\n",
    "\n",
    "\n",
    "for i in range(1,len(name)+1):\n",
    "    try:\n",
    "        c=driver.find_element(By.XPATH,f\"/html/body/div[4]/main/div[3]/div/div[2]/article[{i}]/p\")\n",
    "        descriptions.append(c.text)\n",
    "    except NoSuchElementException as e:\n",
    "        print(\"Exception Raised\\n\",e)\n",
    "        descriptions.append(\"-\")\n"
   ]
  },
  {
   "cell_type": "markdown",
   "id": "d60acecb",
   "metadata": {},
   "source": [
    "Extracting repository description."
   ]
  },
  {
   "cell_type": "code",
   "execution_count": 280,
   "id": "aafb9262",
   "metadata": {},
   "outputs": [],
   "source": [
    "con=[]\n",
    "con_tag=driver.find_elements(By.XPATH,'//a[@class=\"Link--muted d-inline-block mr-3\"]')\n",
    "for i in con_tag:\n",
    "    con.append(i.text)\n",
    "\n",
    "con2=[]\n",
    "for i in range(1,len(con),2):\n",
    "    con2.append(con[i])"
   ]
  },
  {
   "cell_type": "markdown",
   "id": "4f3a50b4",
   "metadata": {},
   "source": [
    "Extracting contribution count."
   ]
  },
  {
   "cell_type": "code",
   "execution_count": 310,
   "id": "29f2ca33",
   "metadata": {},
   "outputs": [],
   "source": [
    "l=[]\n",
    "from selenium.common.exceptions import NoSuchElementException\n",
    "for i in range(1,len(name)+1):\n",
    "    try:\n",
    "        c=driver.find_element(By.XPATH,f\"/html/body/div[4]/main/div[3]/div/div[2]/article[{i}]/div[2]/span[1]\")\n",
    "        l.append(c.text)\n",
    "    except NoSuchElementException as e:\n",
    "        print(\"Exception Raised\\n\",e)\n",
    "        l.append(\"-\")\n"
   ]
  },
  {
   "cell_type": "markdown",
   "id": "624378a9",
   "metadata": {},
   "source": [
    "Extracting languages used."
   ]
  },
  {
   "cell_type": "code",
   "execution_count": 313,
   "id": "b7482651",
   "metadata": {
    "scrolled": true
   },
   "outputs": [
    {
     "data": {
      "text/html": [
       "<div>\n",
       "<style scoped>\n",
       "    .dataframe tbody tr th:only-of-type {\n",
       "        vertical-align: middle;\n",
       "    }\n",
       "\n",
       "    .dataframe tbody tr th {\n",
       "        vertical-align: top;\n",
       "    }\n",
       "\n",
       "    .dataframe thead th {\n",
       "        text-align: right;\n",
       "    }\n",
       "</style>\n",
       "<table border=\"1\" class=\"dataframe\">\n",
       "  <thead>\n",
       "    <tr style=\"text-align: right;\">\n",
       "      <th></th>\n",
       "      <th>Repository Title</th>\n",
       "      <th>Repository Description</th>\n",
       "      <th>Contributed Count</th>\n",
       "      <th>Language Used</th>\n",
       "    </tr>\n",
       "  </thead>\n",
       "  <tbody>\n",
       "    <tr>\n",
       "      <th>0</th>\n",
       "      <td>ocornut / imgui</td>\n",
       "      <td>Dear ImGui: Bloat-free Graphical User interfac...</td>\n",
       "      <td>7,490</td>\n",
       "      <td>C++</td>\n",
       "    </tr>\n",
       "    <tr>\n",
       "      <th>1</th>\n",
       "      <td>mastodon / mastodon</td>\n",
       "      <td>Your self-hosted, globally interconnected micr...</td>\n",
       "      <td>4,740</td>\n",
       "      <td>Ruby</td>\n",
       "    </tr>\n",
       "    <tr>\n",
       "      <th>2</th>\n",
       "      <td>josean-dev / dev-environment-files</td>\n",
       "      <td>-</td>\n",
       "      <td>38</td>\n",
       "      <td>Lua</td>\n",
       "    </tr>\n",
       "    <tr>\n",
       "      <th>3</th>\n",
       "      <td>jellyfin / jellyfin</td>\n",
       "      <td>The Free Software Media System</td>\n",
       "      <td>1,692</td>\n",
       "      <td>C#</td>\n",
       "    </tr>\n",
       "    <tr>\n",
       "      <th>4</th>\n",
       "      <td>XavierXiao / Dreambooth-Stable-Diffusion</td>\n",
       "      <td>Implementation of Dreambooth (https://arxiv.or...</td>\n",
       "      <td>355</td>\n",
       "      <td>Jupyter Notebook</td>\n",
       "    </tr>\n",
       "  </tbody>\n",
       "</table>\n",
       "</div>"
      ],
      "text/plain": [
       "                           Repository Title  \\\n",
       "0                           ocornut / imgui   \n",
       "1                       mastodon / mastodon   \n",
       "2        josean-dev / dev-environment-files   \n",
       "3                       jellyfin / jellyfin   \n",
       "4  XavierXiao / Dreambooth-Stable-Diffusion   \n",
       "\n",
       "                              Repository Description Contributed Count  \\\n",
       "0  Dear ImGui: Bloat-free Graphical User interfac...             7,490   \n",
       "1  Your self-hosted, globally interconnected micr...             4,740   \n",
       "2                                                  -                38   \n",
       "3                     The Free Software Media System             1,692   \n",
       "4  Implementation of Dreambooth (https://arxiv.or...               355   \n",
       "\n",
       "      Language Used  \n",
       "0               C++  \n",
       "1              Ruby  \n",
       "2               Lua  \n",
       "3                C#  \n",
       "4  Jupyter Notebook  "
      ]
     },
     "execution_count": 313,
     "metadata": {},
     "output_type": "execute_result"
    }
   ],
   "source": [
    "df5=pd.DataFrame({\"Repository Title\":name,\"Repository Description\":descriptions,\"Contributed Count\":con2,\"Language Used\":l})\n",
    "df5.head()"
   ]
  },
  {
   "cell_type": "code",
   "execution_count": 315,
   "id": "11e518b2",
   "metadata": {},
   "outputs": [
    {
     "data": {
      "text/plain": [
       "0                  C++\n",
       "1                 Ruby\n",
       "2                  Lua\n",
       "3                   C#\n",
       "4     Jupyter Notebook\n",
       "5     Jupyter Notebook\n",
       "6             Built by\n",
       "7                 Rust\n",
       "8           TypeScript\n",
       "9           JavaScript\n",
       "10                 C++\n",
       "11          TypeScript\n",
       "12                HTML\n",
       "13          JavaScript\n",
       "14          TypeScript\n",
       "15                  Go\n",
       "16                 CSS\n",
       "17                Rust\n",
       "18            Built by\n",
       "19                 C++\n",
       "20               Shell\n",
       "21              Python\n",
       "22               Shell\n",
       "23            Built by\n",
       "24                  Go\n",
       "Name: Language Used, dtype: object"
      ]
     },
     "execution_count": 315,
     "metadata": {},
     "output_type": "execute_result"
    }
   ],
   "source": [
    "df5[\"Language Used\"]"
   ]
  },
  {
   "cell_type": "code",
   "execution_count": 322,
   "id": "e06a8da2",
   "metadata": {},
   "outputs": [],
   "source": [
    "for i in range(len(df5[\"Language Used\"])):\n",
    "    if df5.iloc[i,3]=='Built by':\n",
    "        df5.iloc[i,3]=(df5.iloc[i,3]).replace(\"Built by\",\"-\")"
   ]
  },
  {
   "cell_type": "markdown",
   "id": "39ceb505",
   "metadata": {},
   "source": [
    "Replacing Built by with \"-\" in language used column."
   ]
  },
  {
   "cell_type": "code",
   "execution_count": 323,
   "id": "b6262e7e",
   "metadata": {
    "scrolled": true
   },
   "outputs": [
    {
     "data": {
      "text/plain": [
       "0                  C++\n",
       "1                 Ruby\n",
       "2                  Lua\n",
       "3                   C#\n",
       "4     Jupyter Notebook\n",
       "5     Jupyter Notebook\n",
       "6                    -\n",
       "7                 Rust\n",
       "8           TypeScript\n",
       "9           JavaScript\n",
       "10                 C++\n",
       "11          TypeScript\n",
       "12                HTML\n",
       "13          JavaScript\n",
       "14          TypeScript\n",
       "15                  Go\n",
       "16                 CSS\n",
       "17                Rust\n",
       "18                   -\n",
       "19                 C++\n",
       "20               Shell\n",
       "21              Python\n",
       "22               Shell\n",
       "23                   -\n",
       "24                  Go\n",
       "Name: Language Used, dtype: object"
      ]
     },
     "execution_count": 323,
     "metadata": {},
     "output_type": "execute_result"
    }
   ],
   "source": [
    "df5.iloc[:,-1]"
   ]
  },
  {
   "cell_type": "markdown",
   "id": "4d01a6b2",
   "metadata": {},
   "source": [
    "# 5. Scrape the details of top 100 songs on billiboard.com.\n"
   ]
  },
  {
   "cell_type": "code",
   "execution_count": 84,
   "id": "0a2b4bc9",
   "metadata": {},
   "outputs": [],
   "source": [
    "driver=webdriver.Chrome(r\"C:\\Users\\jayes\\Downloads\\chromedriver_win32\\chromedriver.exe\")"
   ]
  },
  {
   "cell_type": "code",
   "execution_count": 85,
   "id": "29a46153",
   "metadata": {},
   "outputs": [],
   "source": [
    "driver.get(\"https://www.billboard.com/\")"
   ]
  },
  {
   "cell_type": "markdown",
   "id": "3edda480",
   "metadata": {},
   "source": [
    "Get the url of website"
   ]
  },
  {
   "cell_type": "code",
   "execution_count": 86,
   "id": "bc846434",
   "metadata": {},
   "outputs": [],
   "source": [
    "driver.find_element(By.XPATH,'/html/body/div[3]/header/div/div[3]/div/nav/ul/li[1]/a').click()"
   ]
  },
  {
   "cell_type": "markdown",
   "id": "9fd676d5",
   "metadata": {},
   "source": [
    "Select \"Hot 100\" from menu bar in the header"
   ]
  },
  {
   "cell_type": "code",
   "execution_count": 129,
   "id": "61740a80",
   "metadata": {},
   "outputs": [],
   "source": [
    "name=[]\n",
    "title=driver.find_elements(By.XPATH,'//h3[@id=\"title-of-a-story\"]')\n",
    "for i in title:\n",
    "    if not i.text==\"\":\n",
    "        name.append(i.text)\n",
    "        \n",
    "names=[]        \n",
    "names=name[:100]\n",
    "\n"
   ]
  },
  {
   "cell_type": "markdown",
   "id": "02308907",
   "metadata": {},
   "source": [
    "Extracting song name from list."
   ]
  },
  {
   "cell_type": "code",
   "execution_count": 106,
   "id": "08d4dd3c",
   "metadata": {},
   "outputs": [],
   "source": [
    "a=[]\n",
    "artist1=driver.find_elements(By.XPATH,'//span[@class=\"c-label  a-no-trucate a-font-primary-s lrv-u-font-size-14@mobile-max u-line-height-normal@mobile-max u-letter-spacing-0021 lrv-u-display-block a-truncate-ellipsis-2line u-max-width-330 u-max-width-230@tablet-only u-font-size-20@tablet\"]')\n",
    "for i in artist1:\n",
    "    a.append(i.text)\n",
    "    \n",
    "restartist=driver.find_elements(By.XPATH,'//span[@class=\"c-label  a-no-trucate a-font-primary-s lrv-u-font-size-14@mobile-max u-line-height-normal@mobile-max u-letter-spacing-0021 lrv-u-display-block a-truncate-ellipsis-2line u-max-width-330 u-max-width-230@tablet-only\"]')\n",
    "for i in restartist:\n",
    "        a.append(i.text)"
   ]
  },
  {
   "cell_type": "markdown",
   "id": "22ec7439",
   "metadata": {},
   "source": [
    "Extract name of the artist."
   ]
  },
  {
   "cell_type": "code",
   "execution_count": 117,
   "id": "d1c95124",
   "metadata": {},
   "outputs": [],
   "source": [
    "pw=[]\n",
    "peak_week=driver.find_elements(By.XPATH,'//li[@class=\"lrv-u-width-100p\"]')\n",
    "for i in peak_week:\n",
    "    pw.append((i.text).replace(\"\\n\",\" \").split())\n",
    "\n",
    "lw=[]\n",
    "p=[]\n",
    "woc=[]\n",
    "for i in pw:\n",
    "    lw.append(i[-3])\n",
    "    p.append(i[-2])\n",
    "    woc.append(i[-1])"
   ]
  },
  {
   "cell_type": "markdown",
   "id": "de0a9832",
   "metadata": {},
   "source": [
    "Extract song position last week, peak position and weeks on chart."
   ]
  },
  {
   "cell_type": "code",
   "execution_count": 127,
   "id": "1d690564",
   "metadata": {
    "scrolled": true
   },
   "outputs": [
    {
     "data": {
      "text/html": [
       "<div>\n",
       "<style scoped>\n",
       "    .dataframe tbody tr th:only-of-type {\n",
       "        vertical-align: middle;\n",
       "    }\n",
       "\n",
       "    .dataframe tbody tr th {\n",
       "        vertical-align: top;\n",
       "    }\n",
       "\n",
       "    .dataframe thead th {\n",
       "        text-align: right;\n",
       "    }\n",
       "</style>\n",
       "<table border=\"1\" class=\"dataframe\">\n",
       "  <thead>\n",
       "    <tr style=\"text-align: right;\">\n",
       "      <th></th>\n",
       "      <th>Song Name</th>\n",
       "      <th>Artist</th>\n",
       "      <th>Last Week Rank</th>\n",
       "      <th>Peak Position</th>\n",
       "      <th>Weeks on Charts</th>\n",
       "    </tr>\n",
       "  </thead>\n",
       "  <tbody>\n",
       "    <tr>\n",
       "      <th>0</th>\n",
       "      <td>Unholy</td>\n",
       "      <td>Sam Smith &amp; Kim Petras</td>\n",
       "      <td>2</td>\n",
       "      <td>1</td>\n",
       "      <td>4</td>\n",
       "    </tr>\n",
       "    <tr>\n",
       "      <th>1</th>\n",
       "      <td>Bad Habit</td>\n",
       "      <td>Steve Lacy</td>\n",
       "      <td>1</td>\n",
       "      <td>1</td>\n",
       "      <td>16</td>\n",
       "    </tr>\n",
       "    <tr>\n",
       "      <th>2</th>\n",
       "      <td>As It Was</td>\n",
       "      <td>Harry Styles</td>\n",
       "      <td>3</td>\n",
       "      <td>1</td>\n",
       "      <td>29</td>\n",
       "    </tr>\n",
       "    <tr>\n",
       "      <th>3</th>\n",
       "      <td>California Breeze</td>\n",
       "      <td>Lil Baby</td>\n",
       "      <td>-</td>\n",
       "      <td>4</td>\n",
       "      <td>1</td>\n",
       "    </tr>\n",
       "    <tr>\n",
       "      <th>4</th>\n",
       "      <td>I Like You (A Happier Song)</td>\n",
       "      <td>Post Malone Featuring Doja Cat</td>\n",
       "      <td>4</td>\n",
       "      <td>3</td>\n",
       "      <td>20</td>\n",
       "    </tr>\n",
       "  </tbody>\n",
       "</table>\n",
       "</div>"
      ],
      "text/plain": [
       "                     Song Name                          Artist Last Week Rank  \\\n",
       "0                       Unholy          Sam Smith & Kim Petras              2   \n",
       "1                    Bad Habit                      Steve Lacy              1   \n",
       "2                    As It Was                    Harry Styles              3   \n",
       "3            California Breeze                        Lil Baby              -   \n",
       "4  I Like You (A Happier Song)  Post Malone Featuring Doja Cat              4   \n",
       "\n",
       "  Peak Position Weeks on Charts  \n",
       "0             1               4  \n",
       "1             1              16  \n",
       "2             1              29  \n",
       "3             4               1  \n",
       "4             3              20  "
      ]
     },
     "execution_count": 127,
     "metadata": {},
     "output_type": "execute_result"
    }
   ],
   "source": [
    "df6=pd.DataFrame({\"Song Name\":names,\"Artist\":a,\"Last Week Rank\":lw,\"Peak Position\":p,\"Weeks on Charts\":woc})\n",
    "df6.head()"
   ]
  },
  {
   "cell_type": "code",
   "execution_count": 130,
   "id": "0f161107",
   "metadata": {},
   "outputs": [],
   "source": [
    "driver.close()"
   ]
  },
  {
   "cell_type": "markdown",
   "id": "5c44e292",
   "metadata": {},
   "source": [
    "# 9. Scrape the details of Data science recruiters from naukri.com"
   ]
  },
  {
   "cell_type": "code",
   "execution_count": 184,
   "id": "a82ccce4",
   "metadata": {},
   "outputs": [],
   "source": [
    "driver=webdriver.Chrome(r\"C:\\Users\\jayes\\Downloads\\chromedriver_win32\\chromedriver.exe\")"
   ]
  },
  {
   "cell_type": "code",
   "execution_count": 185,
   "id": "c4eaafc1",
   "metadata": {},
   "outputs": [],
   "source": [
    "driver.get(\"https://www.naukri.com/\")"
   ]
  },
  {
   "cell_type": "markdown",
   "id": "9a00194b",
   "metadata": {},
   "source": [
    "Get the url of website"
   ]
  },
  {
   "cell_type": "code",
   "execution_count": 186,
   "id": "d8cd7960",
   "metadata": {},
   "outputs": [],
   "source": [
    "driver.find_element(By.XPATH,'//a[text()=\"Sitemap\"]').click()"
   ]
  },
  {
   "cell_type": "markdown",
   "id": "6ad00df9",
   "metadata": {},
   "source": [
    "Access sitemap in the footer of the webpage"
   ]
  },
  {
   "cell_type": "code",
   "execution_count": 188,
   "id": "0fdb067d",
   "metadata": {},
   "outputs": [
    {
     "name": "stdout",
     "output_type": "stream",
     "text": [
      "Exception Raised\n",
      " Message: element click intercepted: Element <div class=\"mTxt\">...</div> is not clickable at point (378, 38). Other element would receive the click: <p class=\"caption\">...</p>\n",
      "  (Session info: chrome=106.0.5249.119)\n",
      "Stacktrace:\n",
      "Backtrace:\n",
      "\tOrdinal0 [0x00D0DF13+2219795]\n",
      "\tOrdinal0 [0x00CA2841+1779777]\n",
      "\tOrdinal0 [0x00BB423D+803389]\n",
      "\tOrdinal0 [0x00BE99D4+1022420]\n",
      "\tOrdinal0 [0x00BE78C4+1013956]\n",
      "\tOrdinal0 [0x00BE54AB+1004715]\n",
      "\tOrdinal0 [0x00BE4117+999703]\n",
      "\tOrdinal0 [0x00BD9B76+957302]\n",
      "\tOrdinal0 [0x00BFE7FC+1107964]\n",
      "\tOrdinal0 [0x00BD94B4+955572]\n",
      "\tOrdinal0 [0x00BFEA14+1108500]\n",
      "\tOrdinal0 [0x00C0F192+1175954]\n",
      "\tOrdinal0 [0x00BFE616+1107478]\n",
      "\tOrdinal0 [0x00BD7F89+950153]\n",
      "\tOrdinal0 [0x00BD8F56+954198]\n",
      "\tGetHandleVerifier [0x01002CB2+3040210]\n",
      "\tGetHandleVerifier [0x00FF2BB4+2974420]\n",
      "\tGetHandleVerifier [0x00DA6A0A+565546]\n",
      "\tGetHandleVerifier [0x00DA5680+560544]\n",
      "\tOrdinal0 [0x00CA9A5C+1808988]\n",
      "\tOrdinal0 [0x00CAE3A8+1827752]\n",
      "\tOrdinal0 [0x00CAE495+1827989]\n",
      "\tOrdinal0 [0x00CB80A4+1867940]\n",
      "\tBaseThreadInitThunk [0x76C26359+25]\n",
      "\tRtlGetAppContainerNamedObjectPath [0x778487A4+228]\n",
      "\tRtlGetAppContainerNamedObjectPath [0x77848774+180]\n",
      "\n",
      "\n",
      "Exception Successfully handled\n"
     ]
    }
   ],
   "source": [
    "from selenium.common.exceptions import ElementClickInterceptedException   \n",
    "\n",
    "try:\n",
    "    driver.find_element(By.XPATH,'//div[text()=\"Recruiters\"]').click()\n",
    "except ElementClickInterceptedException as e:\n",
    "    print(\"Exception Raised\\n\",e)\n",
    "    driver.find_element(By.XPATH,'//span[@class=\"fr geoLocBtn later\"]').click()\n",
    "    driver.implicitly_wait(10)\n",
    "    driver.find_element(By.XPATH,'//div[text()=\"Recruiters\"]').click()\n",
    "    print(\"\\nException Successfully handled\")\n"
   ]
  },
  {
   "cell_type": "code",
   "execution_count": 206,
   "id": "d1fb8635",
   "metadata": {
    "scrolled": true
   },
   "outputs": [
    {
     "name": "stdout",
     "output_type": "stream",
     "text": [
      "Exception Raised:\n",
      " Message: element not interactable\n",
      "  (Session info: chrome=106.0.5249.119)\n",
      "Stacktrace:\n",
      "Backtrace:\n",
      "\tOrdinal0 [0x00D0DF13+2219795]\n",
      "\tOrdinal0 [0x00CA2841+1779777]\n",
      "\tOrdinal0 [0x00BB4100+803072]\n",
      "\tOrdinal0 [0x00BDE523+976163]\n",
      "\tOrdinal0 [0x00BDDB93+973715]\n",
      "\tOrdinal0 [0x00BFE7FC+1107964]\n",
      "\tOrdinal0 [0x00BD94B4+955572]\n",
      "\tOrdinal0 [0x00BFEA14+1108500]\n",
      "\tOrdinal0 [0x00C0F192+1175954]\n",
      "\tOrdinal0 [0x00BFE616+1107478]\n",
      "\tOrdinal0 [0x00BD7F89+950153]\n",
      "\tOrdinal0 [0x00BD8F56+954198]\n",
      "\tGetHandleVerifier [0x01002CB2+3040210]\n",
      "\tGetHandleVerifier [0x00FF2BB4+2974420]\n",
      "\tGetHandleVerifier [0x00DA6A0A+565546]\n",
      "\tGetHandleVerifier [0x00DA5680+560544]\n",
      "\tOrdinal0 [0x00CA9A5C+1808988]\n",
      "\tOrdinal0 [0x00CAE3A8+1827752]\n",
      "\tOrdinal0 [0x00CAE495+1827989]\n",
      "\tOrdinal0 [0x00CB80A4+1867940]\n",
      "\tBaseThreadInitThunk [0x76C26359+25]\n",
      "\tRtlGetAppContainerNamedObjectPath [0x778487A4+228]\n",
      "\tRtlGetAppContainerNamedObjectPath [0x77848774+180]\n",
      "\n",
      "\n",
      "Exception Successfully handled\n"
     ]
    }
   ],
   "source": [
    "from selenium.common.exceptions import ElementNotInteractableException  \n",
    "try:\n",
    "    a=driver.find_element(By.XPATH,'//input[@class=\"sugInp\"]')\n",
    "    a.send_keys(\"Data science\")\n",
    "    \n",
    "except ElementNotInteractableException  as e:\n",
    "    print(\"Exception Raised:\\n\",e)\n",
    "    \n",
    "    parent = driver.current_window_handle\n",
    "    child = driver.window_handles\n",
    "    \n",
    "    for i in child:\n",
    "        if(i!=parent):\n",
    "            driver.switch_to.window(i)\n",
    "    print(\"\\nException Successfully handled\")\n"
   ]
  },
  {
   "cell_type": "markdown",
   "id": "b981df70",
   "metadata": {},
   "source": [
    "Switch from parent to child window."
   ]
  },
  {
   "cell_type": "code",
   "execution_count": 208,
   "id": "7f4852df",
   "metadata": {
    "scrolled": true
   },
   "outputs": [],
   "source": [
    "a=driver.find_element(By.XPATH,'//input[@class=\"sugInp\"]')\n",
    "a.send_keys(\"Data science\")\n",
    "search=driver.find_element(By.XPATH,'//button[@class=\"fl qsbSrch blueBtn\"]')\n",
    "search.click()"
   ]
  },
  {
   "cell_type": "markdown",
   "id": "2c577f3a",
   "metadata": {},
   "source": [
    "Select search box, send \"Data science\" and submit the search."
   ]
  },
  {
   "cell_type": "code",
   "execution_count": 256,
   "id": "6cb466d9",
   "metadata": {
    "scrolled": false
   },
   "outputs": [],
   "source": [
    "name=[]\n",
    "title=driver.find_elements(By.XPATH,'//span[@class=\"fl ellipsis\"]')\n",
    "for i in title:\n",
    "    name.append(i.text)\n",
    "\n",
    "d=[]\n",
    "designation=driver.find_elements(By.XPATH,'//span[@class=\"ellipsis clr\"]')\n",
    "for i in designation:\n",
    "    d.append(i.text)\n",
    "    \n",
    "c=[]\n",
    "company=driver.find_elements(By.XPATH,'//a[@class=\"ellipsis\"]')\n",
    "for i in company:\n",
    "    c.append(i.text)\n",
    "    \n",
    "c2=[]  \n",
    "for i in range(len(c)):\n",
    "    if (i%2)!=0:\n",
    "        c2.append(c[i])\n",
    "        \n",
    "    \n",
    "s=[]\n",
    "skills=driver.find_elements(By.XPATH,'//div[@class=\"hireSec highlightable\"]')\n",
    "for i in skills:\n",
    "    s.append(i.text)"
   ]
  },
  {
   "cell_type": "markdown",
   "id": "579f9202",
   "metadata": {},
   "source": [
    "Extract name, designation, company, skills from the list."
   ]
  },
  {
   "cell_type": "code",
   "execution_count": 247,
   "id": "575b3931",
   "metadata": {
    "scrolled": true
   },
   "outputs": [
    {
     "name": "stdout",
     "output_type": "stream",
     "text": [
      "Exception Raised:\n",
      " Message: no such element: Unable to locate element: {\"method\":\"xpath\",\"selector\":\"/html/body/div[3]/div/div[2]/div/div[2]/div[15]/div[2]/div[1]/div[1]/p/span[2]/small\"}\n",
      "  (Session info: chrome=106.0.5249.119)\n",
      "Stacktrace:\n",
      "Backtrace:\n",
      "\tOrdinal0 [0x00D0DF13+2219795]\n",
      "\tOrdinal0 [0x00CA2841+1779777]\n",
      "\tOrdinal0 [0x00BB423D+803389]\n",
      "\tOrdinal0 [0x00BE3025+995365]\n",
      "\tOrdinal0 [0x00BE31EB+995819]\n",
      "\tOrdinal0 [0x00C10F52+1183570]\n",
      "\tOrdinal0 [0x00BFE844+1108036]\n",
      "\tOrdinal0 [0x00C0F192+1175954]\n",
      "\tOrdinal0 [0x00BFE616+1107478]\n",
      "\tOrdinal0 [0x00BD7F89+950153]\n",
      "\tOrdinal0 [0x00BD8F56+954198]\n",
      "\tGetHandleVerifier [0x01002CB2+3040210]\n",
      "\tGetHandleVerifier [0x00FF2BB4+2974420]\n",
      "\tGetHandleVerifier [0x00DA6A0A+565546]\n",
      "\tGetHandleVerifier [0x00DA5680+560544]\n",
      "\tOrdinal0 [0x00CA9A5C+1808988]\n",
      "\tOrdinal0 [0x00CAE3A8+1827752]\n",
      "\tOrdinal0 [0x00CAE495+1827989]\n",
      "\tOrdinal0 [0x00CB80A4+1867940]\n",
      "\tBaseThreadInitThunk [0x76C26359+25]\n",
      "\tRtlGetAppContainerNamedObjectPath [0x778487A4+228]\n",
      "\tRtlGetAppContainerNamedObjectPath [0x77848774+180]\n",
      "\n",
      "\n",
      "Exception Successfully handled\n",
      "Exception Raised:\n",
      " Message: no such element: Unable to locate element: {\"method\":\"xpath\",\"selector\":\"/html/body/div[3]/div/div[2]/div/div[2]/div[25]/div[2]/div[1]/div[1]/p/span[2]/small\"}\n",
      "  (Session info: chrome=106.0.5249.119)\n",
      "Stacktrace:\n",
      "Backtrace:\n",
      "\tOrdinal0 [0x00D0DF13+2219795]\n",
      "\tOrdinal0 [0x00CA2841+1779777]\n",
      "\tOrdinal0 [0x00BB423D+803389]\n",
      "\tOrdinal0 [0x00BE3025+995365]\n",
      "\tOrdinal0 [0x00BE31EB+995819]\n",
      "\tOrdinal0 [0x00C10F52+1183570]\n",
      "\tOrdinal0 [0x00BFE844+1108036]\n",
      "\tOrdinal0 [0x00C0F192+1175954]\n",
      "\tOrdinal0 [0x00BFE616+1107478]\n",
      "\tOrdinal0 [0x00BD7F89+950153]\n",
      "\tOrdinal0 [0x00BD8F56+954198]\n",
      "\tGetHandleVerifier [0x01002CB2+3040210]\n",
      "\tGetHandleVerifier [0x00FF2BB4+2974420]\n",
      "\tGetHandleVerifier [0x00DA6A0A+565546]\n",
      "\tGetHandleVerifier [0x00DA5680+560544]\n",
      "\tOrdinal0 [0x00CA9A5C+1808988]\n",
      "\tOrdinal0 [0x00CAE3A8+1827752]\n",
      "\tOrdinal0 [0x00CAE495+1827989]\n",
      "\tOrdinal0 [0x00CB80A4+1867940]\n",
      "\tBaseThreadInitThunk [0x76C26359+25]\n",
      "\tRtlGetAppContainerNamedObjectPath [0x778487A4+228]\n",
      "\tRtlGetAppContainerNamedObjectPath [0x77848774+180]\n",
      "\n",
      "\n",
      "Exception Successfully handled\n"
     ]
    }
   ],
   "source": [
    "from selenium.common.exceptions import NoSuchElementException\n",
    "l=[]\n",
    "for i in range(1,len(s)+1):\n",
    "    if len(l)!=len(s):\n",
    "        try:\n",
    "            if (i%2)==0:\n",
    "                location=driver.find_element(By.XPATH,f'/html/body/div[3]/div/div[2]/div/div[2]/div[{i}]/div[1]/div[1]/div[1]/p/span[2]/small')\n",
    "                l.append(location.text)\n",
    "                location=driver.find_element(By.XPATH,f'/html/body/div[3]/div/div[2]/div/div[2]/div[{i}]/div[2]/div[1]/div[1]/p/span[2]/small')\n",
    "                l.append(location.text)\n",
    "            else:\n",
    "                location=driver.find_element(By.XPATH,f'/html/body/div[3]/div/div[2]/div/div[2]/div[{i}]/div[1]/div[1]/div[1]/p/span[2]/small')\n",
    "                l.append(location.text)\n",
    "                location=driver.find_element(By.XPATH,f'/html/body/div[3]/div/div[2]/div/div[2]/div[{i}]/div[2]/div[1]/div[1]/p/span[2]/small')\n",
    "                l.append(location.text)\n",
    "        except NoSuchElementException as e:\n",
    "            print(\"Exception Raised:\\n\",e)\n",
    "            l.append(\"-\")\n",
    "            print(\"\\nException Successfully handled\")\n",
    "    "
   ]
  },
  {
   "cell_type": "markdown",
   "id": "07bc6c06",
   "metadata": {},
   "source": [
    "Extract location from the list."
   ]
  },
  {
   "cell_type": "code",
   "execution_count": 257,
   "id": "7ec435f1",
   "metadata": {},
   "outputs": [
    {
     "data": {
      "text/html": [
       "<div>\n",
       "<style scoped>\n",
       "    .dataframe tbody tr th:only-of-type {\n",
       "        vertical-align: middle;\n",
       "    }\n",
       "\n",
       "    .dataframe tbody tr th {\n",
       "        vertical-align: top;\n",
       "    }\n",
       "\n",
       "    .dataframe thead th {\n",
       "        text-align: right;\n",
       "    }\n",
       "</style>\n",
       "<table border=\"1\" class=\"dataframe\">\n",
       "  <thead>\n",
       "    <tr style=\"text-align: right;\">\n",
       "      <th></th>\n",
       "      <th>Name</th>\n",
       "      <th>Designation</th>\n",
       "      <th>Company</th>\n",
       "      <th>Skills they hire for</th>\n",
       "      <th>Location</th>\n",
       "    </tr>\n",
       "  </thead>\n",
       "  <tbody>\n",
       "    <tr>\n",
       "      <th>0</th>\n",
       "      <td>Aakash Harit</td>\n",
       "      <td>HR Manager</td>\n",
       "      <td>Data Science Network</td>\n",
       "      <td>Classic ASP Developer, Internet Marketing Prof...</td>\n",
       "      <td>Delhi</td>\n",
       "    </tr>\n",
       "    <tr>\n",
       "      <th>1</th>\n",
       "      <td>shravan Kumar Gaddam</td>\n",
       "      <td>Company Recruiter</td>\n",
       "      <td>Shore Infotech India Pvt. Ltd</td>\n",
       "      <td>.Net, Java, Data Science, Linux Administration...</td>\n",
       "      <td>Hyderabad / Secunderabad</td>\n",
       "    </tr>\n",
       "    <tr>\n",
       "      <th>2</th>\n",
       "      <td>MARSIAN Technologies LLP</td>\n",
       "      <td>Company HR</td>\n",
       "      <td>MARSIAN Technologies LLP</td>\n",
       "      <td>Data Science, Artificial Intelligence, Machine...</td>\n",
       "      <td>Pune</td>\n",
       "    </tr>\n",
       "    <tr>\n",
       "      <th>3</th>\n",
       "      <td>Anik Agrawal</td>\n",
       "      <td>Company Recruiter</td>\n",
       "      <td>Enerlytics Software Solutions Pvt Ltd</td>\n",
       "      <td>Mean Stack, javascript, angularjs, mongodb, We...</td>\n",
       "      <td>Ahmedabad</td>\n",
       "    </tr>\n",
       "    <tr>\n",
       "      <th>4</th>\n",
       "      <td>subhas patel</td>\n",
       "      <td>Founder CEO</td>\n",
       "      <td>LibraryXProject</td>\n",
       "      <td>Hadoop, Spark, Digital Strategy, Data Architec...</td>\n",
       "      <td>UK - (london)</td>\n",
       "    </tr>\n",
       "  </tbody>\n",
       "</table>\n",
       "</div>"
      ],
      "text/plain": [
       "                       Name        Designation  \\\n",
       "0              Aakash Harit         HR Manager   \n",
       "1      shravan Kumar Gaddam  Company Recruiter   \n",
       "2  MARSIAN Technologies LLP         Company HR   \n",
       "3              Anik Agrawal  Company Recruiter   \n",
       "4              subhas patel        Founder CEO   \n",
       "\n",
       "                                 Company  \\\n",
       "0                   Data Science Network   \n",
       "1          Shore Infotech India Pvt. Ltd   \n",
       "2               MARSIAN Technologies LLP   \n",
       "3  Enerlytics Software Solutions Pvt Ltd   \n",
       "4                        LibraryXProject   \n",
       "\n",
       "                                Skills they hire for                  Location  \n",
       "0  Classic ASP Developer, Internet Marketing Prof...                     Delhi  \n",
       "1  .Net, Java, Data Science, Linux Administration...  Hyderabad / Secunderabad  \n",
       "2  Data Science, Artificial Intelligence, Machine...                      Pune  \n",
       "3  Mean Stack, javascript, angularjs, mongodb, We...                 Ahmedabad  \n",
       "4  Hadoop, Spark, Digital Strategy, Data Architec...             UK - (london)  "
      ]
     },
     "execution_count": 257,
     "metadata": {},
     "output_type": "execute_result"
    }
   ],
   "source": [
    "df7=pd.DataFrame({\"Name\":name,\"Designation\":d,\"Company\":c2,\"Skills they hire for\":s,\"Location\":l})\n",
    "df7.head()"
   ]
  },
  {
   "cell_type": "code",
   "execution_count": 258,
   "id": "d38e8d96",
   "metadata": {},
   "outputs": [],
   "source": [
    "driver.close()"
   ]
  },
  {
   "cell_type": "markdown",
   "id": "10df23a9",
   "metadata": {},
   "source": [
    "# 6. Scrape the details of Highest selling novels."
   ]
  },
  {
   "cell_type": "code",
   "execution_count": 4,
   "id": "69d16282",
   "metadata": {},
   "outputs": [],
   "source": [
    "driver=webdriver.Chrome(r\"C:\\Users\\jayes\\Downloads\\chromedriver_win32\\chromedriver.exe\")"
   ]
  },
  {
   "cell_type": "code",
   "execution_count": 5,
   "id": "f313b94d",
   "metadata": {},
   "outputs": [],
   "source": [
    "driver.get(\"https://www.theguardian.com/news/datablog/2012/aug/09/best-selling-books-all-time-fifty-shades-grey-compare\")"
   ]
  },
  {
   "cell_type": "markdown",
   "id": "d40b49fc",
   "metadata": {},
   "source": [
    "Get the url of website"
   ]
  },
  {
   "cell_type": "code",
   "execution_count": 21,
   "id": "79c5d118",
   "metadata": {},
   "outputs": [],
   "source": [
    "t=[]\n",
    "title=driver.find_elements(By.XPATH,\"//td\")\n",
    "for i in title[1:]:\n",
    "    t.append(i.text)"
   ]
  },
  {
   "cell_type": "markdown",
   "id": "8708b73f",
   "metadata": {},
   "source": [
    "Extract data from table"
   ]
  },
  {
   "cell_type": "code",
   "execution_count": 24,
   "id": "9cda060e",
   "metadata": {},
   "outputs": [],
   "source": [
    "n=[]\n",
    "b=[]\n",
    "a=[]\n",
    "s=[]\n",
    "p=[]\n",
    "g=[]\n",
    "\n",
    "for i in range(0,len(t),6):\n",
    "    n.append(t[i])\n",
    "    \n",
    "for i in range(1,len(t),6):\n",
    "    b.append(t[i])\n",
    "    \n",
    "for i in range(2,len(t),6):\n",
    "    a.append(t[i])\n",
    "\n",
    "for i in range(3,len(t),6):\n",
    "    s.append(t[i])\n",
    "    \n",
    "for i in range(4,len(t),6):\n",
    "    p.append(t[i])\n",
    "    \n",
    "for i in range(5,len(t),6):\n",
    "    g.append(t[i])"
   ]
  },
  {
   "cell_type": "markdown",
   "id": "8eb0d399",
   "metadata": {},
   "source": [
    "Extract rank, title, name, author, sales, publisher and genre from table data"
   ]
  },
  {
   "cell_type": "code",
   "execution_count": 25,
   "id": "26ed27e3",
   "metadata": {},
   "outputs": [
    {
     "data": {
      "text/html": [
       "<div>\n",
       "<style scoped>\n",
       "    .dataframe tbody tr th:only-of-type {\n",
       "        vertical-align: middle;\n",
       "    }\n",
       "\n",
       "    .dataframe tbody tr th {\n",
       "        vertical-align: top;\n",
       "    }\n",
       "\n",
       "    .dataframe thead th {\n",
       "        text-align: right;\n",
       "    }\n",
       "</style>\n",
       "<table border=\"1\" class=\"dataframe\">\n",
       "  <thead>\n",
       "    <tr style=\"text-align: right;\">\n",
       "      <th></th>\n",
       "      <th>Rank</th>\n",
       "      <th>Title</th>\n",
       "      <th>Author</th>\n",
       "      <th>Volume Sales</th>\n",
       "      <th>Publisher</th>\n",
       "      <th>Genre</th>\n",
       "    </tr>\n",
       "  </thead>\n",
       "  <tbody>\n",
       "    <tr>\n",
       "      <th>0</th>\n",
       "      <td>1</td>\n",
       "      <td>Da Vinci Code,The</td>\n",
       "      <td>Brown, Dan</td>\n",
       "      <td>5,094,805</td>\n",
       "      <td>Transworld</td>\n",
       "      <td>Crime, Thriller &amp; Adventure</td>\n",
       "    </tr>\n",
       "    <tr>\n",
       "      <th>1</th>\n",
       "      <td>2</td>\n",
       "      <td>Harry Potter and the Deathly Hallows</td>\n",
       "      <td>Rowling, J.K.</td>\n",
       "      <td>4,475,152</td>\n",
       "      <td>Bloomsbury</td>\n",
       "      <td>Children's Fiction</td>\n",
       "    </tr>\n",
       "    <tr>\n",
       "      <th>2</th>\n",
       "      <td>3</td>\n",
       "      <td>Harry Potter and the Philosopher's Stone</td>\n",
       "      <td>Rowling, J.K.</td>\n",
       "      <td>4,200,654</td>\n",
       "      <td>Bloomsbury</td>\n",
       "      <td>Children's Fiction</td>\n",
       "    </tr>\n",
       "    <tr>\n",
       "      <th>3</th>\n",
       "      <td>4</td>\n",
       "      <td>Harry Potter and the Order of the Phoenix</td>\n",
       "      <td>Rowling, J.K.</td>\n",
       "      <td>4,179,479</td>\n",
       "      <td>Bloomsbury</td>\n",
       "      <td>Children's Fiction</td>\n",
       "    </tr>\n",
       "    <tr>\n",
       "      <th>4</th>\n",
       "      <td>5</td>\n",
       "      <td>Fifty Shades of Grey</td>\n",
       "      <td>James, E. L.</td>\n",
       "      <td>3,758,936</td>\n",
       "      <td>Random House</td>\n",
       "      <td>Romance &amp; Sagas</td>\n",
       "    </tr>\n",
       "  </tbody>\n",
       "</table>\n",
       "</div>"
      ],
      "text/plain": [
       "  Rank                                      Title         Author Volume Sales  \\\n",
       "0    1                          Da Vinci Code,The     Brown, Dan    5,094,805   \n",
       "1    2       Harry Potter and the Deathly Hallows  Rowling, J.K.    4,475,152   \n",
       "2    3   Harry Potter and the Philosopher's Stone  Rowling, J.K.    4,200,654   \n",
       "3    4  Harry Potter and the Order of the Phoenix  Rowling, J.K.    4,179,479   \n",
       "4    5                       Fifty Shades of Grey   James, E. L.    3,758,936   \n",
       "\n",
       "      Publisher                        Genre  \n",
       "0    Transworld  Crime, Thriller & Adventure  \n",
       "1    Bloomsbury           Children's Fiction  \n",
       "2    Bloomsbury           Children's Fiction  \n",
       "3    Bloomsbury           Children's Fiction  \n",
       "4  Random House              Romance & Sagas  "
      ]
     },
     "execution_count": 25,
     "metadata": {},
     "output_type": "execute_result"
    }
   ],
   "source": [
    "df8=pd.DataFrame({\"Rank\":n,\"Title\":b,\"Author\":a,\"Volume Sales\":s,\"Publisher\":p,\"Genre\":g})\n",
    "df8.head()"
   ]
  },
  {
   "cell_type": "code",
   "execution_count": 26,
   "id": "1b08129b",
   "metadata": {},
   "outputs": [],
   "source": [
    "driver.close()"
   ]
  },
  {
   "cell_type": "markdown",
   "id": "55fd6d34",
   "metadata": {},
   "source": [
    "# 7. Scrape the details most watched tv series of all time from imdb.com.\n"
   ]
  },
  {
   "cell_type": "code",
   "execution_count": 141,
   "id": "9af95d6f",
   "metadata": {},
   "outputs": [],
   "source": [
    "driver=webdriver.Chrome(r\"C:\\Users\\jayes\\Downloads\\chromedriver_win32\\chromedriver.exe\")"
   ]
  },
  {
   "cell_type": "code",
   "execution_count": 142,
   "id": "d03c507f",
   "metadata": {},
   "outputs": [],
   "source": [
    "driver.get(\"https://www.imdb.com/list/ls095964455/\")"
   ]
  },
  {
   "cell_type": "markdown",
   "id": "3dc57b8b",
   "metadata": {},
   "source": [
    "Get the url of website"
   ]
  },
  {
   "cell_type": "code",
   "execution_count": 177,
   "id": "60da6e1f",
   "metadata": {},
   "outputs": [],
   "source": [
    "title=[]\n",
    "show_name=driver.find_elements(By.XPATH,'//h3[@class=\"lister-item-header\"]')\n",
    "for i in show_name:\n",
    "    title.append(i.text[3:].split())\n",
    "\n",
    "show=[]\n",
    "year=[]\n",
    "for i in title:\n",
    "    if i[-1]==\")\":\n",
    "        show.append(\",\".join(i[:-2]))\n",
    "        year.append(\",\".join(i[-2:]))\n",
    "    else:\n",
    "        show.append(\",\".join(i[:-1]))\n",
    "        year.append(i[-1:])\n"
   ]
  },
  {
   "cell_type": "markdown",
   "id": "7913a7c4",
   "metadata": {},
   "source": [
    "Extract show title."
   ]
  },
  {
   "cell_type": "code",
   "execution_count": 178,
   "id": "5b098341",
   "metadata": {},
   "outputs": [],
   "source": [
    "g=[]\n",
    "genre=driver.find_elements(By.XPATH,'//span[@class=\"genre\"]')\n",
    "for i in genre:\n",
    "    g.append(i.text)\n",
    "    \n",
    "rt=[]\n",
    "runtime=driver.find_elements(By.XPATH,'//span[@class=\"runtime\"]')\n",
    "for i in runtime:\n",
    "    rt.append(i.text[:-3])\n",
    "\n",
    "r=[]\n",
    "rate=driver.find_elements(By.XPATH,'//div[@class=\"ipl-rating-star small\"]')\n",
    "for i in rate:\n",
    "    r.append(i.text)\n",
    "\n",
    "v=[]\n",
    "vote=driver.find_elements(By.XPATH,'//span[@name=\"nv\"]')\n",
    "for i in vote:\n",
    "    v.append(i.text)"
   ]
  },
  {
   "cell_type": "markdown",
   "id": "d6fefc53",
   "metadata": {},
   "source": [
    "Extract genre, runtime, rating and votes for the tv shows."
   ]
  },
  {
   "cell_type": "code",
   "execution_count": 179,
   "id": "7cdb83ba",
   "metadata": {},
   "outputs": [
    {
     "data": {
      "text/html": [
       "<div>\n",
       "<style scoped>\n",
       "    .dataframe tbody tr th:only-of-type {\n",
       "        vertical-align: middle;\n",
       "    }\n",
       "\n",
       "    .dataframe tbody tr th {\n",
       "        vertical-align: top;\n",
       "    }\n",
       "\n",
       "    .dataframe thead th {\n",
       "        text-align: right;\n",
       "    }\n",
       "</style>\n",
       "<table border=\"1\" class=\"dataframe\">\n",
       "  <thead>\n",
       "    <tr style=\"text-align: right;\">\n",
       "      <th></th>\n",
       "      <th>Name</th>\n",
       "      <th>Year Span</th>\n",
       "      <th>Genre</th>\n",
       "      <th>Run Time (Minutes)</th>\n",
       "      <th>Rating</th>\n",
       "      <th>Votes</th>\n",
       "    </tr>\n",
       "  </thead>\n",
       "  <tbody>\n",
       "    <tr>\n",
       "      <th>0</th>\n",
       "      <td>Game,of,Thrones</td>\n",
       "      <td>[(2011–2019)]</td>\n",
       "      <td>Action, Adventure, Drama</td>\n",
       "      <td>57</td>\n",
       "      <td>9.2</td>\n",
       "      <td>2,076,187</td>\n",
       "    </tr>\n",
       "    <tr>\n",
       "      <th>1</th>\n",
       "      <td>Stranger,Things</td>\n",
       "      <td>(2016–,)</td>\n",
       "      <td>Drama, Fantasy, Horror</td>\n",
       "      <td>51</td>\n",
       "      <td>8.7</td>\n",
       "      <td>1,166,793</td>\n",
       "    </tr>\n",
       "    <tr>\n",
       "      <th>2</th>\n",
       "      <td>The,Walking,Dead</td>\n",
       "      <td>[(2010–2022)]</td>\n",
       "      <td>Drama, Horror, Thriller</td>\n",
       "      <td>44</td>\n",
       "      <td>8.1</td>\n",
       "      <td>978,361</td>\n",
       "    </tr>\n",
       "    <tr>\n",
       "      <th>3</th>\n",
       "      <td>13,Reasons,Why</td>\n",
       "      <td>[(2017–2020)]</td>\n",
       "      <td>Drama, Mystery, Thriller</td>\n",
       "      <td>60</td>\n",
       "      <td>7.5</td>\n",
       "      <td>291,276</td>\n",
       "    </tr>\n",
       "    <tr>\n",
       "      <th>4</th>\n",
       "      <td>The,100</td>\n",
       "      <td>[(2014–2020)]</td>\n",
       "      <td>Drama, Mystery, Sci-Fi</td>\n",
       "      <td>43</td>\n",
       "      <td>7.6</td>\n",
       "      <td>250,413</td>\n",
       "    </tr>\n",
       "  </tbody>\n",
       "</table>\n",
       "</div>"
      ],
      "text/plain": [
       "               Name      Year Span                     Genre  \\\n",
       "0   Game,of,Thrones  [(2011–2019)]  Action, Adventure, Drama   \n",
       "1   Stranger,Things       (2016–,)    Drama, Fantasy, Horror   \n",
       "2  The,Walking,Dead  [(2010–2022)]   Drama, Horror, Thriller   \n",
       "3    13,Reasons,Why  [(2017–2020)]  Drama, Mystery, Thriller   \n",
       "4           The,100  [(2014–2020)]    Drama, Mystery, Sci-Fi   \n",
       "\n",
       "  Run Time (Minutes) Rating      Votes  \n",
       "0                57     9.2  2,076,187  \n",
       "1                51     8.7  1,166,793  \n",
       "2                44     8.1    978,361  \n",
       "3                60     7.5    291,276  \n",
       "4                43     7.6    250,413  "
      ]
     },
     "execution_count": 179,
     "metadata": {},
     "output_type": "execute_result"
    }
   ],
   "source": [
    "df9=pd.DataFrame({\"Name\":show,\"Year Span\":year,\"Genre\":g,\"Run Time (Minutes)\":rt,\"Rating\":r,\"Votes\":v})\n",
    "df9.head()"
   ]
  },
  {
   "cell_type": "code",
   "execution_count": 180,
   "id": "c3f19327",
   "metadata": {
    "scrolled": true
   },
   "outputs": [
    {
     "data": {
      "text/plain": [
       "0     2011–2019\n",
       "1        2016– \n",
       "2     2010–2022\n",
       "3     2017–2020\n",
       "4     2014–2020\n",
       "        ...    \n",
       "95    2013–2017\n",
       "96    2017–2019\n",
       "97    2005–2020\n",
       "98    2015–2019\n",
       "99         2018\n",
       "Name: Year Span, Length: 100, dtype: object"
      ]
     },
     "execution_count": 180,
     "metadata": {},
     "output_type": "execute_result"
    }
   ],
   "source": [
    "b=[]\n",
    "for i in df9['Year Span']:\n",
    "        if len(i)==1:\n",
    "            for j in i:\n",
    "                b.append(j[1:-1])\n",
    "        else:\n",
    "            b.append(i[1:-1].replace(\",\",\" \"))\n",
    "            \n",
    "df9['Year Span']=b\n",
    "\n",
    "df9['Year Span']"
   ]
  },
  {
   "cell_type": "markdown",
   "id": "26486cb1",
   "metadata": {},
   "source": [
    "Removed \" [ \" and \" ] \" from the Year Span column"
   ]
  },
  {
   "cell_type": "code",
   "execution_count": 181,
   "id": "03371303",
   "metadata": {},
   "outputs": [],
   "source": [
    "for i in range(len(df9[\"Name\"])):\n",
    "    df9.iloc[i,0]=df9.iloc[i,0].replace(\",\",\" \")"
   ]
  },
  {
   "cell_type": "markdown",
   "id": "11ba503b",
   "metadata": {},
   "source": [
    "Removed \",\" between words from Name column."
   ]
  },
  {
   "cell_type": "code",
   "execution_count": 182,
   "id": "468eb012",
   "metadata": {},
   "outputs": [
    {
     "data": {
      "text/html": [
       "<div>\n",
       "<style scoped>\n",
       "    .dataframe tbody tr th:only-of-type {\n",
       "        vertical-align: middle;\n",
       "    }\n",
       "\n",
       "    .dataframe tbody tr th {\n",
       "        vertical-align: top;\n",
       "    }\n",
       "\n",
       "    .dataframe thead th {\n",
       "        text-align: right;\n",
       "    }\n",
       "</style>\n",
       "<table border=\"1\" class=\"dataframe\">\n",
       "  <thead>\n",
       "    <tr style=\"text-align: right;\">\n",
       "      <th></th>\n",
       "      <th>Name</th>\n",
       "      <th>Year Span</th>\n",
       "      <th>Genre</th>\n",
       "      <th>Run Time (Minutes)</th>\n",
       "      <th>Rating</th>\n",
       "      <th>Votes</th>\n",
       "    </tr>\n",
       "  </thead>\n",
       "  <tbody>\n",
       "    <tr>\n",
       "      <th>0</th>\n",
       "      <td>Game of Thrones</td>\n",
       "      <td>2011–2019</td>\n",
       "      <td>Action, Adventure, Drama</td>\n",
       "      <td>57</td>\n",
       "      <td>9.2</td>\n",
       "      <td>2,076,187</td>\n",
       "    </tr>\n",
       "    <tr>\n",
       "      <th>1</th>\n",
       "      <td>Stranger Things</td>\n",
       "      <td>2016–</td>\n",
       "      <td>Drama, Fantasy, Horror</td>\n",
       "      <td>51</td>\n",
       "      <td>8.7</td>\n",
       "      <td>1,166,793</td>\n",
       "    </tr>\n",
       "    <tr>\n",
       "      <th>2</th>\n",
       "      <td>The Walking Dead</td>\n",
       "      <td>2010–2022</td>\n",
       "      <td>Drama, Horror, Thriller</td>\n",
       "      <td>44</td>\n",
       "      <td>8.1</td>\n",
       "      <td>978,361</td>\n",
       "    </tr>\n",
       "    <tr>\n",
       "      <th>3</th>\n",
       "      <td>13 Reasons Why</td>\n",
       "      <td>2017–2020</td>\n",
       "      <td>Drama, Mystery, Thriller</td>\n",
       "      <td>60</td>\n",
       "      <td>7.5</td>\n",
       "      <td>291,276</td>\n",
       "    </tr>\n",
       "    <tr>\n",
       "      <th>4</th>\n",
       "      <td>The 100</td>\n",
       "      <td>2014–2020</td>\n",
       "      <td>Drama, Mystery, Sci-Fi</td>\n",
       "      <td>43</td>\n",
       "      <td>7.6</td>\n",
       "      <td>250,413</td>\n",
       "    </tr>\n",
       "  </tbody>\n",
       "</table>\n",
       "</div>"
      ],
      "text/plain": [
       "               Name  Year Span                     Genre Run Time (Minutes)  \\\n",
       "0   Game of Thrones  2011–2019  Action, Adventure, Drama                57    \n",
       "1   Stranger Things     2016–     Drama, Fantasy, Horror                51    \n",
       "2  The Walking Dead  2010–2022   Drama, Horror, Thriller                44    \n",
       "3    13 Reasons Why  2017–2020  Drama, Mystery, Thriller                60    \n",
       "4           The 100  2014–2020    Drama, Mystery, Sci-Fi                43    \n",
       "\n",
       "  Rating      Votes  \n",
       "0    9.2  2,076,187  \n",
       "1    8.7  1,166,793  \n",
       "2    8.1    978,361  \n",
       "3    7.5    291,276  \n",
       "4    7.6    250,413  "
      ]
     },
     "execution_count": 182,
     "metadata": {},
     "output_type": "execute_result"
    }
   ],
   "source": [
    "df9.head()"
   ]
  },
  {
   "cell_type": "code",
   "execution_count": 183,
   "id": "36c1f902",
   "metadata": {},
   "outputs": [],
   "source": [
    "driver.close()"
   ]
  },
  {
   "cell_type": "markdown",
   "id": "7c3f1e01",
   "metadata": {},
   "source": [
    "# 8. Details of Datasets from UCI machine learning repositories.\n"
   ]
  },
  {
   "cell_type": "code",
   "execution_count": 259,
   "id": "f4f3af6f",
   "metadata": {},
   "outputs": [],
   "source": [
    "driver=webdriver.Chrome(r\"C:\\Users\\jayes\\Downloads\\chromedriver_win32\\chromedriver.exe\")"
   ]
  },
  {
   "cell_type": "code",
   "execution_count": 260,
   "id": "ae15a3d3",
   "metadata": {},
   "outputs": [],
   "source": [
    "driver.get(\"https://archive.ics.uci.edu/\")"
   ]
  },
  {
   "cell_type": "markdown",
   "id": "661291ff",
   "metadata": {},
   "source": [
    "Get the url of website"
   ]
  },
  {
   "cell_type": "code",
   "execution_count": 262,
   "id": "ce3330a3",
   "metadata": {},
   "outputs": [],
   "source": [
    "driver.find_element(By.XPATH,'//a[text()=\"view all data sets\"]').click()"
   ]
  },
  {
   "cell_type": "markdown",
   "id": "8d4341ca",
   "metadata": {},
   "source": [
    "Select \"view all dataset\" link from the paragraph."
   ]
  },
  {
   "cell_type": "code",
   "execution_count": 322,
   "id": "d77c9436",
   "metadata": {},
   "outputs": [],
   "source": [
    "from selenium.common.exceptions import NoSuchElementException\n",
    "\n",
    "x=[]\n",
    "\n",
    "for i in range(2,624):\n",
    "    if len(x)!=623*7:\n",
    "        \n",
    "            search=data.find_element(By.XPATH,f'/html/body/table[2]/tbody/tr/td[2]/table[2]/tbody/tr[{i}]/td[1]/table/tbody/tr/td[2]/p')\n",
    "            x.append(search.text)\n",
    "    \n",
    "            search2=data.find_element(By.XPATH,f'/html/body/table[2]/tbody/tr/td[2]/table[2]/tbody/tr[{i}]/td[2]/p')\n",
    "            x.append(search2.text)\n",
    "            \n",
    "            search3=data.find_element(By.XPATH,f'/html/body/table[2]/tbody/tr/td[2]/table[2]/tbody/tr[{i}]/td[3]/p')\n",
    "            x.append(search3.text)\n",
    "    \n",
    "            search4=data.find_element(By.XPATH,f'/html/body/table[2]/tbody/tr/td[2]/table[2]/tbody/tr[{i}]/td[4]/p')\n",
    "            x.append(search4.text)\n",
    "    \n",
    "            search5=data.find_element(By.XPATH,f'/html/body/table[2]/tbody/tr/td[2]/table[2]/tbody/tr[{i}]/td[5]/p')\n",
    "            x.append(search5.text)\n",
    "    \n",
    "            search6=data.find_element(By.XPATH,f'/html/body/table[2]/tbody/tr/td[2]/table[2]/tbody/tr[{i}]/td[6]/p')\n",
    "            x.append(search6.text)\n",
    "    \n",
    "            search7=data.find_element(By.XPATH,f'/html/body/table[2]/tbody/tr/td[2]/table[2]/tbody/tr[{i}]/td[7]/p')\n",
    "            x.append(search7.text)\n"
   ]
  },
  {
   "cell_type": "markdown",
   "id": "f92290bc",
   "metadata": {},
   "source": [
    "Extract data from table."
   ]
  },
  {
   "cell_type": "code",
   "execution_count": 332,
   "id": "581092e7",
   "metadata": {},
   "outputs": [],
   "source": [
    "n=[]\n",
    "d=[]\n",
    "dt=[]\n",
    "a=[]\n",
    "noi=[]\n",
    "noa=[]\n",
    "y=[]\n",
    "\n",
    "for i in range(0,len(x),7):\n",
    "    n.append(x[i])\n",
    "    \n",
    "for i in range(1,len(x),7):\n",
    "    d.append(x[i])\n",
    "    \n",
    "for i in range(2,len(x),7):  \n",
    "    dt.append(x[i])\n",
    "    \n",
    "for i in range(3,len(x),7):\n",
    "    a.append(x[i])\n",
    "    \n",
    "for i in range(4,len(x),7):\n",
    "    noi.append(x[i])\n",
    "    \n",
    "for i in range(5,len(x),7):\n",
    "    noa.append(x[i])\n",
    "    \n",
    "for i in range(6,len(x),7):\n",
    "    y.append(x[i])\n",
    "    \n"
   ]
  },
  {
   "cell_type": "markdown",
   "id": "53c6b65f",
   "metadata": {},
   "source": [
    "Extract Dataset Name, Data Type, Default Task, Attribute Type, No. of Instances, No. of Attributes and Year."
   ]
  },
  {
   "cell_type": "code",
   "execution_count": 333,
   "id": "bba66ddf",
   "metadata": {
    "scrolled": true
   },
   "outputs": [
    {
     "data": {
      "text/html": [
       "<div>\n",
       "<style scoped>\n",
       "    .dataframe tbody tr th:only-of-type {\n",
       "        vertical-align: middle;\n",
       "    }\n",
       "\n",
       "    .dataframe tbody tr th {\n",
       "        vertical-align: top;\n",
       "    }\n",
       "\n",
       "    .dataframe thead th {\n",
       "        text-align: right;\n",
       "    }\n",
       "</style>\n",
       "<table border=\"1\" class=\"dataframe\">\n",
       "  <thead>\n",
       "    <tr style=\"text-align: right;\">\n",
       "      <th></th>\n",
       "      <th>Dataset Name</th>\n",
       "      <th>Data Type</th>\n",
       "      <th>Default Task</th>\n",
       "      <th>Attribute Type</th>\n",
       "      <th>No. of Instances</th>\n",
       "      <th>No. of Attributes</th>\n",
       "      <th>Year</th>\n",
       "    </tr>\n",
       "  </thead>\n",
       "  <tbody>\n",
       "    <tr>\n",
       "      <th>0</th>\n",
       "      <td>Abalone</td>\n",
       "      <td>Multivariate</td>\n",
       "      <td>Classification</td>\n",
       "      <td>Categorical, Integer, Real</td>\n",
       "      <td>4177</td>\n",
       "      <td>8</td>\n",
       "      <td>1995</td>\n",
       "    </tr>\n",
       "    <tr>\n",
       "      <th>1</th>\n",
       "      <td>Adult</td>\n",
       "      <td>Multivariate</td>\n",
       "      <td>Classification</td>\n",
       "      <td>Categorical, Integer</td>\n",
       "      <td>48842</td>\n",
       "      <td>14</td>\n",
       "      <td>1996</td>\n",
       "    </tr>\n",
       "    <tr>\n",
       "      <th>2</th>\n",
       "      <td>Annealing</td>\n",
       "      <td>Multivariate</td>\n",
       "      <td>Classification</td>\n",
       "      <td>Categorical, Integer, Real</td>\n",
       "      <td>798</td>\n",
       "      <td>38</td>\n",
       "      <td></td>\n",
       "    </tr>\n",
       "    <tr>\n",
       "      <th>3</th>\n",
       "      <td>Anonymous Microsoft Web Data</td>\n",
       "      <td></td>\n",
       "      <td>Recommender-Systems</td>\n",
       "      <td>Categorical</td>\n",
       "      <td>37711</td>\n",
       "      <td>294</td>\n",
       "      <td>1998</td>\n",
       "    </tr>\n",
       "    <tr>\n",
       "      <th>4</th>\n",
       "      <td>Arrhythmia</td>\n",
       "      <td>Multivariate</td>\n",
       "      <td>Classification</td>\n",
       "      <td>Categorical, Integer, Real</td>\n",
       "      <td>452</td>\n",
       "      <td>279</td>\n",
       "      <td>1998</td>\n",
       "    </tr>\n",
       "  </tbody>\n",
       "</table>\n",
       "</div>"
      ],
      "text/plain": [
       "                   Dataset Name      Data Type          Default Task  \\\n",
       "0                       Abalone  Multivariate        Classification    \n",
       "1                         Adult  Multivariate        Classification    \n",
       "2                     Annealing  Multivariate        Classification    \n",
       "3  Anonymous Microsoft Web Data                 Recommender-Systems    \n",
       "4                    Arrhythmia  Multivariate        Classification    \n",
       "\n",
       "                Attribute Type No. of Instances No. of Attributes   Year  \n",
       "0  Categorical, Integer, Real             4177                 8   1995   \n",
       "1        Categorical, Integer            48842                14   1996   \n",
       "2  Categorical, Integer, Real              798                38          \n",
       "3                 Categorical            37711               294   1998   \n",
       "4  Categorical, Integer, Real              452               279   1998   "
      ]
     },
     "execution_count": 333,
     "metadata": {},
     "output_type": "execute_result"
    }
   ],
   "source": [
    "df10=pd.DataFrame({\"Dataset Name\":n,\"Data Type\":d,\"Default Task\":dt,\"Attribute Type\":a,\"No. of Instances\":noi,\"No. of Attributes\":noa,\"Year\":y})\n",
    "df10.head()"
   ]
  },
  {
   "cell_type": "code",
   "execution_count": 334,
   "id": "c3240ff4",
   "metadata": {},
   "outputs": [],
   "source": [
    "driver.close()"
   ]
  }
 ],
 "metadata": {
  "kernelspec": {
   "display_name": "Python 3 (ipykernel)",
   "language": "python",
   "name": "python3"
  },
  "language_info": {
   "codemirror_mode": {
    "name": "ipython",
    "version": 3
   },
   "file_extension": ".py",
   "mimetype": "text/x-python",
   "name": "python",
   "nbconvert_exporter": "python",
   "pygments_lexer": "ipython3",
   "version": "3.9.7"
  }
 },
 "nbformat": 4,
 "nbformat_minor": 5
}
