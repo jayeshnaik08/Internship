{
 "cells": [
  {
   "cell_type": "code",
   "execution_count": 1,
   "id": "d2601df6",
   "metadata": {},
   "outputs": [],
   "source": [
    "import selenium\n",
    "from selenium import webdriver\n",
    "import pandas as pd\n",
    "from selenium.webdriver.common.by import By\n",
    "from selenium.common.exceptions import NoSuchElementException,StaleElementReferenceException\n",
    "import time\n",
    "\n",
    "import warnings\n",
    "warnings.filterwarnings('ignore')"
   ]
  },
  {
   "cell_type": "markdown",
   "id": "8a71f033",
   "metadata": {},
   "source": [
    "# 1. Write a python program which searches all the product under a particular product from www.amazon.in. The product to be searched will be taken as input from user. For e.g. If user input is ‘guitar’. Then search for guitars."
   ]
  },
  {
   "cell_type": "code",
   "execution_count": 2,
   "id": "e3ce9faf",
   "metadata": {},
   "outputs": [],
   "source": [
    "driver = webdriver.Chrome(r'chromedriver')\n",
    "driver.get('https://www.amazon.in')"
   ]
  },
  {
   "cell_type": "code",
   "execution_count": 3,
   "id": "cc0559fa",
   "metadata": {},
   "outputs": [
    {
     "name": "stdout",
     "output_type": "stream",
     "text": [
      "Enter what you want to search :guitar\n"
     ]
    }
   ],
   "source": [
    "prod = input('Enter what you want to search :')"
   ]
  },
  {
   "cell_type": "code",
   "execution_count": 4,
   "id": "3b3de834",
   "metadata": {},
   "outputs": [],
   "source": [
    "search = driver.find_element(By.XPATH,'/html/body/div[1]/header/div/div[1]/div[2]/div/form/div[2]/div[1]/input')\n",
    "search.send_keys(prod)\n",
    "search.submit()"
   ]
  },
  {
   "cell_type": "markdown",
   "id": "9f659cf1",
   "metadata": {},
   "source": [
    "# 2. In the above question, now scrape the following details of each product listed in first 3 pages of your search results and save it in a data frame and csv. In case if any product has less than 3 pages in search results then scrape all the products available under that product name. Details to be scraped are: \"Brand Name\", \"Name of the Product\", \"Price\", \"Return/Exchange\", \"Expected Delivery\", \"Availability\" and “Product URL”. In case, if any of the details are missing for any of the product then replace it by “-“."
   ]
  },
  {
   "cell_type": "code",
   "execution_count": 92,
   "id": "22bff47c",
   "metadata": {},
   "outputs": [],
   "source": [
    "name,price,dilevery,url = [],[],[],[]\n",
    "for i in driver.find_elements(By.XPATH,\"//span[@class = 'a-size-base-plus a-color-base a-text-normal']\"):\n",
    "    name.append(i.text)\n",
    "for i in driver.find_elements(By.XPATH,\"//span[@class = 'a-price-whole']\"):\n",
    "    price.append(i.text)\n",
    "for i in driver.find_elements(By.XPATH,\"//span[@class = 'a-color-base a-text-bold']\"):\n",
    "    dilevery.append(i.text)\n",
    "for i in driver.find_elements(By.XPATH,\"//a[@class = 'a-link-normal s-underline-text s-underline-link-text s-link-style a-text-normal']\"):\n",
    "    url.append(i.get_attribute('href'))"
   ]
  },
  {
   "cell_type": "code",
   "execution_count": 94,
   "id": "2eacb43b",
   "metadata": {},
   "outputs": [],
   "source": [
    "nex = driver.find_element(By.XPATH,'/html/body/div[1]/div[2]/div[1]/div[1]/div/span[3]/div[2]/div[66]/div/div/span/a[3]')\n",
    "nex.click()"
   ]
  },
  {
   "cell_type": "code",
   "execution_count": 95,
   "id": "eea80400",
   "metadata": {},
   "outputs": [],
   "source": [
    "for i in driver.find_elements(By.XPATH,\"//span[@class = 'a-size-base-plus a-color-base a-text-normal']\"):\n",
    "    name.append(i.text)\n",
    "for i in driver.find_elements(By.XPATH,\"//span[@class = 'a-price-whole']\"):\n",
    "    price.append(i.text)\n",
    "for i in driver.find_elements(By.XPATH,\"//span[@class = 'a-color-base a-text-bold']\"):\n",
    "    dilevery.append(i.text)\n",
    "for i in driver.find_elements(By.XPATH,\"//a[@class = 'a-link-normal s-underline-text s-underline-link-text s-link-style a-text-normal']\"):\n",
    "    url.append(i.get_attribute('href'))"
   ]
  },
  {
   "cell_type": "code",
   "execution_count": 98,
   "id": "afbf719a",
   "metadata": {},
   "outputs": [],
   "source": [
    "nex = driver.find_element(By.XPATH,'/html/body/div[1]/div[2]/div[1]/div[1]/div/span[3]/div[2]/div[65]/div/div/span/a[4]')\n",
    "nex.click()"
   ]
  },
  {
   "cell_type": "code",
   "execution_count": 99,
   "id": "7fbc6675",
   "metadata": {},
   "outputs": [],
   "source": [
    "for i in driver.find_elements(By.XPATH,\"//span[@class = 'a-size-base-plus a-color-base a-text-normal']\"):\n",
    "    name.append(i.text)\n",
    "for i in driver.find_elements(By.XPATH,\"//span[@class = 'a-price-whole']\"):\n",
    "    price.append(i.text)\n",
    "for i in driver.find_elements(By.XPATH,\"//span[@class = 'a-color-base a-text-bold']\"):\n",
    "    dilevery.append(i.text)\n",
    "for i in driver.find_elements(By.XPATH,\"//a[@class = 'a-link-normal s-underline-text s-underline-link-text s-link-style a-text-normal']\"):\n",
    "    url.append(i.get_attribute('href'))"
   ]
  },
  {
   "cell_type": "code",
   "execution_count": 100,
   "id": "f7d1b6da",
   "metadata": {},
   "outputs": [
    {
     "data": {
      "text/plain": [
       "(184, 185, 182, 184)"
      ]
     },
     "execution_count": 100,
     "metadata": {},
     "output_type": "execute_result"
    }
   ],
   "source": [
    "len(name),len(price),len(dilevery),len(url)"
   ]
  },
  {
   "cell_type": "code",
   "execution_count": 108,
   "id": "85afc1e4",
   "metadata": {},
   "outputs": [],
   "source": [
    "guti = pd.DataFrame({'Brand Name':name[0:182],'Price':price[0:182],'Expected Dilevery':dilevery,'Product URL':url[0:182],'Availability':'Available'})"
   ]
  },
  {
   "cell_type": "code",
   "execution_count": 110,
   "id": "20c376f0",
   "metadata": {},
   "outputs": [],
   "source": [
    "guti.to_csv('guitar.csv')"
   ]
  },
  {
   "cell_type": "code",
   "execution_count": 112,
   "id": "dfcb3689",
   "metadata": {},
   "outputs": [
    {
     "data": {
      "text/html": [
       "<div>\n",
       "<style scoped>\n",
       "    .dataframe tbody tr th:only-of-type {\n",
       "        vertical-align: middle;\n",
       "    }\n",
       "\n",
       "    .dataframe tbody tr th {\n",
       "        vertical-align: top;\n",
       "    }\n",
       "\n",
       "    .dataframe thead th {\n",
       "        text-align: right;\n",
       "    }\n",
       "</style>\n",
       "<table border=\"1\" class=\"dataframe\">\n",
       "  <thead>\n",
       "    <tr style=\"text-align: right;\">\n",
       "      <th></th>\n",
       "      <th>Unnamed: 0</th>\n",
       "      <th>Brand Name</th>\n",
       "      <th>Price</th>\n",
       "      <th>Expected Dilevery</th>\n",
       "      <th>Product URL</th>\n",
       "      <th>Availability</th>\n",
       "    </tr>\n",
       "  </thead>\n",
       "  <tbody>\n",
       "    <tr>\n",
       "      <th>0</th>\n",
       "      <td>0</td>\n",
       "      <td>Kadence Frontier Series, Acoustic Guitar With/...</td>\n",
       "      <td>9,999</td>\n",
       "      <td>Sunday, July 31</td>\n",
       "      <td>https://www.amazon.in/gp/slredirect/picassoRed...</td>\n",
       "      <td>Available</td>\n",
       "    </tr>\n",
       "    <tr>\n",
       "      <th>1</th>\n",
       "      <td>1</td>\n",
       "      <td>Kadence Frontier Jumbo Semi Acoustic Guitar Wi...</td>\n",
       "      <td>4,582</td>\n",
       "      <td>Monday, August 1</td>\n",
       "      <td>https://www.amazon.in/gp/slredirect/picassoRed...</td>\n",
       "      <td>Available</td>\n",
       "    </tr>\n",
       "    <tr>\n",
       "      <th>2</th>\n",
       "      <td>2</td>\n",
       "      <td>Photron Acoustic Guitar, 38 inches Cutaway, PH...</td>\n",
       "      <td>7,348</td>\n",
       "      <td>Sunday, July 31</td>\n",
       "      <td>https://www.amazon.in/gp/slredirect/picassoRed...</td>\n",
       "      <td>Available</td>\n",
       "    </tr>\n",
       "    <tr>\n",
       "      <th>3</th>\n",
       "      <td>3</td>\n",
       "      <td>Blueberry 38C, 38\" Acoustic Guitar Kit with Ba...</td>\n",
       "      <td>2,490</td>\n",
       "      <td>Monday, August 1</td>\n",
       "      <td>https://www.amazon.in/gp/slredirect/picassoRed...</td>\n",
       "      <td>Available</td>\n",
       "    </tr>\n",
       "    <tr>\n",
       "      <th>4</th>\n",
       "      <td>4</td>\n",
       "      <td>Intern INT-38C Acoustic Guitar Kit, With Bag, ...</td>\n",
       "      <td>2,695</td>\n",
       "      <td>Friday, July 29</td>\n",
       "      <td>https://www.amazon.in/Intern-INT-38C-Acoustic-...</td>\n",
       "      <td>Available</td>\n",
       "    </tr>\n",
       "    <tr>\n",
       "      <th>...</th>\n",
       "      <td>...</td>\n",
       "      <td>...</td>\n",
       "      <td>...</td>\n",
       "      <td>...</td>\n",
       "      <td>...</td>\n",
       "      <td>...</td>\n",
       "    </tr>\n",
       "    <tr>\n",
       "      <th>177</th>\n",
       "      <td>177</td>\n",
       "      <td>Givson Venus Special Cutaway Rosewood 41 Inch ...</td>\n",
       "      <td>4,199</td>\n",
       "      <td>Monday, August 1</td>\n",
       "      <td>https://www.amazon.in/Special-Cutaway-Rosewood...</td>\n",
       "      <td>Available</td>\n",
       "    </tr>\n",
       "    <tr>\n",
       "      <th>178</th>\n",
       "      <td>178</td>\n",
       "      <td>Yamaha Acoustic Guitar F280 Dreadnought With M...</td>\n",
       "      <td>9,190</td>\n",
       "      <td>Monday, August 1</td>\n",
       "      <td>https://www.amazon.in/Acoustic-F280-Dreadnough...</td>\n",
       "      <td>Available</td>\n",
       "    </tr>\n",
       "    <tr>\n",
       "      <th>179</th>\n",
       "      <td>179</td>\n",
       "      <td>Gibz's G-38 Glossy Acoustic Guitar With Truss ...</td>\n",
       "      <td>3,478</td>\n",
       "      <td>Thursday, July 28</td>\n",
       "      <td>https://www.amazon.in/Gibzs-38-C-Acoustic-Guit...</td>\n",
       "      <td>Available</td>\n",
       "    </tr>\n",
       "    <tr>\n",
       "      <th>180</th>\n",
       "      <td>180</td>\n",
       "      <td>HOMME STORE 4 String Guitar Kids Brown Plastic...</td>\n",
       "      <td>899</td>\n",
       "      <td>Saturday, July 30</td>\n",
       "      <td>https://www.amazon.in/gp/slredirect/picassoRed...</td>\n",
       "      <td>Available</td>\n",
       "    </tr>\n",
       "    <tr>\n",
       "      <th>181</th>\n",
       "      <td>181</td>\n",
       "      <td>SHARE BY Blueberry R-40- Trussrod Acoustic Gui...</td>\n",
       "      <td>4,500</td>\n",
       "      <td>Sunday, July 31</td>\n",
       "      <td>https://www.amazon.in/gp/slredirect/picassoRed...</td>\n",
       "      <td>Available</td>\n",
       "    </tr>\n",
       "  </tbody>\n",
       "</table>\n",
       "<p>182 rows × 6 columns</p>\n",
       "</div>"
      ],
      "text/plain": [
       "     Unnamed: 0                                         Brand Name  Price  \\\n",
       "0             0  Kadence Frontier Series, Acoustic Guitar With/...  9,999   \n",
       "1             1  Kadence Frontier Jumbo Semi Acoustic Guitar Wi...  4,582   \n",
       "2             2  Photron Acoustic Guitar, 38 inches Cutaway, PH...  7,348   \n",
       "3             3  Blueberry 38C, 38\" Acoustic Guitar Kit with Ba...  2,490   \n",
       "4             4  Intern INT-38C Acoustic Guitar Kit, With Bag, ...  2,695   \n",
       "..          ...                                                ...    ...   \n",
       "177         177  Givson Venus Special Cutaway Rosewood 41 Inch ...  4,199   \n",
       "178         178  Yamaha Acoustic Guitar F280 Dreadnought With M...  9,190   \n",
       "179         179  Gibz's G-38 Glossy Acoustic Guitar With Truss ...  3,478   \n",
       "180         180  HOMME STORE 4 String Guitar Kids Brown Plastic...    899   \n",
       "181         181  SHARE BY Blueberry R-40- Trussrod Acoustic Gui...  4,500   \n",
       "\n",
       "     Expected Dilevery                                        Product URL  \\\n",
       "0      Sunday, July 31  https://www.amazon.in/gp/slredirect/picassoRed...   \n",
       "1     Monday, August 1  https://www.amazon.in/gp/slredirect/picassoRed...   \n",
       "2      Sunday, July 31  https://www.amazon.in/gp/slredirect/picassoRed...   \n",
       "3     Monday, August 1  https://www.amazon.in/gp/slredirect/picassoRed...   \n",
       "4      Friday, July 29  https://www.amazon.in/Intern-INT-38C-Acoustic-...   \n",
       "..                 ...                                                ...   \n",
       "177   Monday, August 1  https://www.amazon.in/Special-Cutaway-Rosewood...   \n",
       "178   Monday, August 1  https://www.amazon.in/Acoustic-F280-Dreadnough...   \n",
       "179  Thursday, July 28  https://www.amazon.in/Gibzs-38-C-Acoustic-Guit...   \n",
       "180  Saturday, July 30  https://www.amazon.in/gp/slredirect/picassoRed...   \n",
       "181    Sunday, July 31  https://www.amazon.in/gp/slredirect/picassoRed...   \n",
       "\n",
       "    Availability  \n",
       "0      Available  \n",
       "1      Available  \n",
       "2      Available  \n",
       "3      Available  \n",
       "4      Available  \n",
       "..           ...  \n",
       "177    Available  \n",
       "178    Available  \n",
       "179    Available  \n",
       "180    Available  \n",
       "181    Available  \n",
       "\n",
       "[182 rows x 6 columns]"
      ]
     },
     "execution_count": 112,
     "metadata": {},
     "output_type": "execute_result"
    }
   ],
   "source": [
    "df = pd.read_csv('guitar.csv')\n",
    "df"
   ]
  },
  {
   "cell_type": "code",
   "execution_count": 126,
   "id": "ff96a35a",
   "metadata": {},
   "outputs": [],
   "source": [
    "driver.close()"
   ]
  },
  {
   "cell_type": "markdown",
   "id": "94d0de57",
   "metadata": {},
   "source": [
    "# 3. Write a python program to access the search bar and search button on images.google.com and scrape 10 images each for keywords ‘fruits’, ‘cars’ and ‘Machine Learning’, ‘Guitar’, ‘Cakes’."
   ]
  },
  {
   "cell_type": "code",
   "execution_count": 128,
   "id": "49aa4c06",
   "metadata": {},
   "outputs": [],
   "source": [
    "driver = webdriver.Chrome(r'chromedriver')\n",
    "driver.get('https://images.google.com')"
   ]
  },
  {
   "cell_type": "code",
   "execution_count": 129,
   "id": "3820fd4b",
   "metadata": {},
   "outputs": [],
   "source": [
    "search = driver.find_element(By.XPATH,'/html/body/div[1]/div[3]/form/div[1]/div[1]/div[1]/div/div[2]/input')\n",
    "search.send_keys('fruits')\n",
    "search.submit()"
   ]
  },
  {
   "cell_type": "code",
   "execution_count": 150,
   "id": "dedb7311",
   "metadata": {},
   "outputs": [],
   "source": [
    "imag = []\n",
    "for i in driver.find_elements(By.XPATH,'//img[@class = \"rg_i Q4LuWd\"]'):\n",
    "    imag.append(i.get_attribute('src'))"
   ]
  },
  {
   "cell_type": "code",
   "execution_count": 155,
   "id": "5e8adf0e",
   "metadata": {},
   "outputs": [],
   "source": [
    "search = driver.find_element(By.XPATH,'/html/body/c-wiz/c-wiz/div/div[3]/div[2]/div/div[1]/form/div[1]/div[2]/div/div[2]/input')\n",
    "search.clear()\n",
    "delay = 2\n",
    "search.send_keys('cars')\n",
    "search.submit()"
   ]
  },
  {
   "cell_type": "code",
   "execution_count": 156,
   "id": "96c9fdd5",
   "metadata": {},
   "outputs": [],
   "source": [
    "car = []\n",
    "for i in driver.find_elements(By.XPATH,'//img[@class = \"rg_i Q4LuWd\"]'):\n",
    "    car.append(i.get_attribute('src'))"
   ]
  },
  {
   "cell_type": "code",
   "execution_count": 158,
   "id": "96b53a8a",
   "metadata": {},
   "outputs": [],
   "source": [
    "search = driver.find_element(By.XPATH,'/html/body/c-wiz/c-wiz/div/div[3]/div[2]/div/div[1]/form/div[1]/div[2]/div/div[2]/input')\n",
    "search.clear()\n",
    "delay = 2\n",
    "search.send_keys('machine learning')\n",
    "search.submit()"
   ]
  },
  {
   "cell_type": "code",
   "execution_count": 161,
   "id": "e8f6454d",
   "metadata": {},
   "outputs": [],
   "source": [
    "ml = []\n",
    "for i in driver.find_elements(By.XPATH,'//img[@class = \"rg_i Q4LuWd\"]'):\n",
    "    ml.append(i.get_attribute('src'))"
   ]
  },
  {
   "cell_type": "code",
   "execution_count": 164,
   "id": "c285b819",
   "metadata": {},
   "outputs": [],
   "source": [
    "search = driver.find_element(By.XPATH,'/html/body/c-wiz/c-wiz/div/div[3]/div[2]/div/div[1]/form/div[1]/div[2]/div/div[2]/input')\n",
    "search.clear()\n",
    "delay = 2\n",
    "search.send_keys('guitar')\n",
    "search.submit()"
   ]
  },
  {
   "cell_type": "code",
   "execution_count": 165,
   "id": "2e578f24",
   "metadata": {},
   "outputs": [],
   "source": [
    "guitar = []\n",
    "for i in driver.find_elements(By.XPATH,'//img[@class = \"rg_i Q4LuWd\"]'):\n",
    "    guitar.append(i.get_attribute('src'))"
   ]
  },
  {
   "cell_type": "code",
   "execution_count": 168,
   "id": "ae95a115",
   "metadata": {},
   "outputs": [],
   "source": [
    "search = driver.find_element(By.XPATH,'/html/body/c-wiz/c-wiz/div/div[3]/div[2]/div/div[1]/form/div[1]/div[2]/div/div[2]/input')\n",
    "search.clear()\n",
    "delay = 2\n",
    "search.send_keys('cake')\n",
    "search.submit()"
   ]
  },
  {
   "cell_type": "code",
   "execution_count": 169,
   "id": "bfad9158",
   "metadata": {},
   "outputs": [],
   "source": [
    "cake = []\n",
    "for i in driver.find_elements(By.XPATH,'//img[@class = \"rg_i Q4LuWd\"]'):\n",
    "    cake.append(i.get_attribute('src'))"
   ]
  },
  {
   "cell_type": "code",
   "execution_count": 180,
   "id": "afe63f6f",
   "metadata": {},
   "outputs": [],
   "source": [
    "d = pd.DataFrame({'Fruits':imag[0:10],'Cars':car[0:10],'Machine Learning':ml[0:10],'Guitar':guitar[0:10],'Cake':cake[0:10]})"
   ]
  },
  {
   "cell_type": "code",
   "execution_count": 181,
   "id": "cca42cac",
   "metadata": {},
   "outputs": [],
   "source": [
    "d.to_csv('image.csv')"
   ]
  },
  {
   "cell_type": "code",
   "execution_count": 185,
   "id": "1fadf823",
   "metadata": {
    "scrolled": false
   },
   "outputs": [
    {
     "data": {
      "text/html": [
       "<div>\n",
       "<style scoped>\n",
       "    .dataframe tbody tr th:only-of-type {\n",
       "        vertical-align: middle;\n",
       "    }\n",
       "\n",
       "    .dataframe tbody tr th {\n",
       "        vertical-align: top;\n",
       "    }\n",
       "\n",
       "    .dataframe thead th {\n",
       "        text-align: right;\n",
       "    }\n",
       "</style>\n",
       "<table border=\"1\" class=\"dataframe\">\n",
       "  <thead>\n",
       "    <tr style=\"text-align: right;\">\n",
       "      <th></th>\n",
       "      <th>Fruits</th>\n",
       "      <th>Cars</th>\n",
       "      <th>Machine Learning</th>\n",
       "      <th>Guitar</th>\n",
       "      <th>Cake</th>\n",
       "    </tr>\n",
       "  </thead>\n",
       "  <tbody>\n",
       "    <tr>\n",
       "      <th>0</th>\n",
       "      <td>data:image/jpeg;base64,/9j/4AAQSkZJRgABAQAAAQA...</td>\n",
       "      <td>data:image/jpeg;base64,/9j/4AAQSkZJRgABAQAAAQA...</td>\n",
       "      <td>data:image/jpeg;base64,/9j/4AAQSkZJRgABAQAAAQA...</td>\n",
       "      <td>data:image/jpeg;base64,/9j/4AAQSkZJRgABAQAAAQA...</td>\n",
       "      <td>data:image/jpeg;base64,/9j/4AAQSkZJRgABAQAAAQA...</td>\n",
       "    </tr>\n",
       "    <tr>\n",
       "      <th>1</th>\n",
       "      <td>data:image/jpeg;base64,/9j/4AAQSkZJRgABAQAAAQA...</td>\n",
       "      <td>data:image/jpeg;base64,/9j/4AAQSkZJRgABAQAAAQA...</td>\n",
       "      <td>data:image/jpeg;base64,/9j/4AAQSkZJRgABAQAAAQA...</td>\n",
       "      <td>data:image/jpeg;base64,/9j/4AAQSkZJRgABAQAAAQA...</td>\n",
       "      <td>data:image/jpeg;base64,/9j/4AAQSkZJRgABAQAAAQA...</td>\n",
       "    </tr>\n",
       "    <tr>\n",
       "      <th>2</th>\n",
       "      <td>data:image/jpeg;base64,/9j/4AAQSkZJRgABAQAAAQA...</td>\n",
       "      <td>data:image/jpeg;base64,/9j/4AAQSkZJRgABAQAAAQA...</td>\n",
       "      <td>data:image/png;base64,iVBORw0KGgoAAAANSUhEUgAA...</td>\n",
       "      <td>data:image/jpeg;base64,/9j/4AAQSkZJRgABAQAAAQA...</td>\n",
       "      <td>data:image/jpeg;base64,/9j/4AAQSkZJRgABAQAAAQA...</td>\n",
       "    </tr>\n",
       "    <tr>\n",
       "      <th>3</th>\n",
       "      <td>data:image/jpeg;base64,/9j/4AAQSkZJRgABAQAAAQA...</td>\n",
       "      <td>data:image/jpeg;base64,/9j/4AAQSkZJRgABAQAAAQA...</td>\n",
       "      <td>data:image/jpeg;base64,/9j/4AAQSkZJRgABAQAAAQA...</td>\n",
       "      <td>data:image/jpeg;base64,/9j/4AAQSkZJRgABAQAAAQA...</td>\n",
       "      <td>data:image/jpeg;base64,/9j/4AAQSkZJRgABAQAAAQA...</td>\n",
       "    </tr>\n",
       "    <tr>\n",
       "      <th>4</th>\n",
       "      <td>data:image/jpeg;base64,/9j/4AAQSkZJRgABAQAAAQA...</td>\n",
       "      <td>data:image/jpeg;base64,/9j/4AAQSkZJRgABAQAAAQA...</td>\n",
       "      <td>data:image/jpeg;base64,/9j/4AAQSkZJRgABAQAAAQA...</td>\n",
       "      <td>data:image/jpeg;base64,/9j/4AAQSkZJRgABAQAAAQA...</td>\n",
       "      <td>data:image/jpeg;base64,/9j/4AAQSkZJRgABAQAAAQA...</td>\n",
       "    </tr>\n",
       "    <tr>\n",
       "      <th>5</th>\n",
       "      <td>data:image/jpeg;base64,/9j/4AAQSkZJRgABAQAAAQA...</td>\n",
       "      <td>data:image/jpeg;base64,/9j/4AAQSkZJRgABAQAAAQA...</td>\n",
       "      <td>data:image/jpeg;base64,/9j/4AAQSkZJRgABAQAAAQA...</td>\n",
       "      <td>data:image/jpeg;base64,/9j/4AAQSkZJRgABAQAAAQA...</td>\n",
       "      <td>data:image/jpeg;base64,/9j/4AAQSkZJRgABAQAAAQA...</td>\n",
       "    </tr>\n",
       "    <tr>\n",
       "      <th>6</th>\n",
       "      <td>data:image/jpeg;base64,/9j/4AAQSkZJRgABAQAAAQA...</td>\n",
       "      <td>data:image/jpeg;base64,/9j/4AAQSkZJRgABAQAAAQA...</td>\n",
       "      <td>data:image/jpeg;base64,/9j/4AAQSkZJRgABAQAAAQA...</td>\n",
       "      <td>data:image/jpeg;base64,/9j/4AAQSkZJRgABAQAAAQA...</td>\n",
       "      <td>data:image/jpeg;base64,/9j/4AAQSkZJRgABAQAAAQA...</td>\n",
       "    </tr>\n",
       "    <tr>\n",
       "      <th>7</th>\n",
       "      <td>data:image/jpeg;base64,/9j/4AAQSkZJRgABAQAAAQA...</td>\n",
       "      <td>data:image/jpeg;base64,/9j/4AAQSkZJRgABAQAAAQA...</td>\n",
       "      <td>data:image/jpeg;base64,/9j/4AAQSkZJRgABAQAAAQA...</td>\n",
       "      <td>data:image/jpeg;base64,/9j/4AAQSkZJRgABAQAAAQA...</td>\n",
       "      <td>data:image/jpeg;base64,/9j/4AAQSkZJRgABAQAAAQA...</td>\n",
       "    </tr>\n",
       "    <tr>\n",
       "      <th>8</th>\n",
       "      <td>data:image/jpeg;base64,/9j/4AAQSkZJRgABAQAAAQA...</td>\n",
       "      <td>data:image/jpeg;base64,/9j/4AAQSkZJRgABAQAAAQA...</td>\n",
       "      <td>data:image/jpeg;base64,/9j/4AAQSkZJRgABAQAAAQA...</td>\n",
       "      <td>data:image/jpeg;base64,/9j/4AAQSkZJRgABAQAAAQA...</td>\n",
       "      <td>data:image/jpeg;base64,/9j/4AAQSkZJRgABAQAAAQA...</td>\n",
       "    </tr>\n",
       "    <tr>\n",
       "      <th>9</th>\n",
       "      <td>data:image/jpeg;base64,/9j/4AAQSkZJRgABAQAAAQA...</td>\n",
       "      <td>data:image/jpeg;base64,/9j/4AAQSkZJRgABAQAAAQA...</td>\n",
       "      <td>data:image/jpeg;base64,/9j/4AAQSkZJRgABAQAAAQA...</td>\n",
       "      <td>data:image/jpeg;base64,/9j/4AAQSkZJRgABAQAAAQA...</td>\n",
       "      <td>data:image/jpeg;base64,/9j/4AAQSkZJRgABAQAAAQA...</td>\n",
       "    </tr>\n",
       "  </tbody>\n",
       "</table>\n",
       "</div>"
      ],
      "text/plain": [
       "                                              Fruits  \\\n",
       "0  data:image/jpeg;base64,/9j/4AAQSkZJRgABAQAAAQA...   \n",
       "1  data:image/jpeg;base64,/9j/4AAQSkZJRgABAQAAAQA...   \n",
       "2  data:image/jpeg;base64,/9j/4AAQSkZJRgABAQAAAQA...   \n",
       "3  data:image/jpeg;base64,/9j/4AAQSkZJRgABAQAAAQA...   \n",
       "4  data:image/jpeg;base64,/9j/4AAQSkZJRgABAQAAAQA...   \n",
       "5  data:image/jpeg;base64,/9j/4AAQSkZJRgABAQAAAQA...   \n",
       "6  data:image/jpeg;base64,/9j/4AAQSkZJRgABAQAAAQA...   \n",
       "7  data:image/jpeg;base64,/9j/4AAQSkZJRgABAQAAAQA...   \n",
       "8  data:image/jpeg;base64,/9j/4AAQSkZJRgABAQAAAQA...   \n",
       "9  data:image/jpeg;base64,/9j/4AAQSkZJRgABAQAAAQA...   \n",
       "\n",
       "                                                Cars  \\\n",
       "0  data:image/jpeg;base64,/9j/4AAQSkZJRgABAQAAAQA...   \n",
       "1  data:image/jpeg;base64,/9j/4AAQSkZJRgABAQAAAQA...   \n",
       "2  data:image/jpeg;base64,/9j/4AAQSkZJRgABAQAAAQA...   \n",
       "3  data:image/jpeg;base64,/9j/4AAQSkZJRgABAQAAAQA...   \n",
       "4  data:image/jpeg;base64,/9j/4AAQSkZJRgABAQAAAQA...   \n",
       "5  data:image/jpeg;base64,/9j/4AAQSkZJRgABAQAAAQA...   \n",
       "6  data:image/jpeg;base64,/9j/4AAQSkZJRgABAQAAAQA...   \n",
       "7  data:image/jpeg;base64,/9j/4AAQSkZJRgABAQAAAQA...   \n",
       "8  data:image/jpeg;base64,/9j/4AAQSkZJRgABAQAAAQA...   \n",
       "9  data:image/jpeg;base64,/9j/4AAQSkZJRgABAQAAAQA...   \n",
       "\n",
       "                                    Machine Learning  \\\n",
       "0  data:image/jpeg;base64,/9j/4AAQSkZJRgABAQAAAQA...   \n",
       "1  data:image/jpeg;base64,/9j/4AAQSkZJRgABAQAAAQA...   \n",
       "2  data:image/png;base64,iVBORw0KGgoAAAANSUhEUgAA...   \n",
       "3  data:image/jpeg;base64,/9j/4AAQSkZJRgABAQAAAQA...   \n",
       "4  data:image/jpeg;base64,/9j/4AAQSkZJRgABAQAAAQA...   \n",
       "5  data:image/jpeg;base64,/9j/4AAQSkZJRgABAQAAAQA...   \n",
       "6  data:image/jpeg;base64,/9j/4AAQSkZJRgABAQAAAQA...   \n",
       "7  data:image/jpeg;base64,/9j/4AAQSkZJRgABAQAAAQA...   \n",
       "8  data:image/jpeg;base64,/9j/4AAQSkZJRgABAQAAAQA...   \n",
       "9  data:image/jpeg;base64,/9j/4AAQSkZJRgABAQAAAQA...   \n",
       "\n",
       "                                              Guitar  \\\n",
       "0  data:image/jpeg;base64,/9j/4AAQSkZJRgABAQAAAQA...   \n",
       "1  data:image/jpeg;base64,/9j/4AAQSkZJRgABAQAAAQA...   \n",
       "2  data:image/jpeg;base64,/9j/4AAQSkZJRgABAQAAAQA...   \n",
       "3  data:image/jpeg;base64,/9j/4AAQSkZJRgABAQAAAQA...   \n",
       "4  data:image/jpeg;base64,/9j/4AAQSkZJRgABAQAAAQA...   \n",
       "5  data:image/jpeg;base64,/9j/4AAQSkZJRgABAQAAAQA...   \n",
       "6  data:image/jpeg;base64,/9j/4AAQSkZJRgABAQAAAQA...   \n",
       "7  data:image/jpeg;base64,/9j/4AAQSkZJRgABAQAAAQA...   \n",
       "8  data:image/jpeg;base64,/9j/4AAQSkZJRgABAQAAAQA...   \n",
       "9  data:image/jpeg;base64,/9j/4AAQSkZJRgABAQAAAQA...   \n",
       "\n",
       "                                                Cake  \n",
       "0  data:image/jpeg;base64,/9j/4AAQSkZJRgABAQAAAQA...  \n",
       "1  data:image/jpeg;base64,/9j/4AAQSkZJRgABAQAAAQA...  \n",
       "2  data:image/jpeg;base64,/9j/4AAQSkZJRgABAQAAAQA...  \n",
       "3  data:image/jpeg;base64,/9j/4AAQSkZJRgABAQAAAQA...  \n",
       "4  data:image/jpeg;base64,/9j/4AAQSkZJRgABAQAAAQA...  \n",
       "5  data:image/jpeg;base64,/9j/4AAQSkZJRgABAQAAAQA...  \n",
       "6  data:image/jpeg;base64,/9j/4AAQSkZJRgABAQAAAQA...  \n",
       "7  data:image/jpeg;base64,/9j/4AAQSkZJRgABAQAAAQA...  \n",
       "8  data:image/jpeg;base64,/9j/4AAQSkZJRgABAQAAAQA...  \n",
       "9  data:image/jpeg;base64,/9j/4AAQSkZJRgABAQAAAQA...  "
      ]
     },
     "execution_count": 185,
     "metadata": {},
     "output_type": "execute_result"
    }
   ],
   "source": [
    "di = pd.read_csv('image.csv')\n",
    "di.drop('Unnamed: 0',axis =1)"
   ]
  },
  {
   "cell_type": "code",
   "execution_count": 186,
   "id": "e44954ef",
   "metadata": {},
   "outputs": [],
   "source": [
    "driver.close()"
   ]
  },
  {
   "cell_type": "markdown",
   "id": "b09ac080",
   "metadata": {},
   "source": [
    "# 4. Write a python program to search for a smartphone(e.g.: Oneplus Nord, pixel 4A, etc.) on www.flipkart.com and scrape following details for all the search results displayed on 1st page. Details to be scraped: “Brand Name”, “Smartphone name”, “Colour”, “RAM”, “Storage(ROM)”, “Primary Camera”, “Secondary Camera”, “Display Size”, “Battery Capacity”, “Price”, “Product URL”. Incase if any of the details is missing then replace it by “- “. Save your results in a dataframe and CSV."
   ]
  },
  {
   "cell_type": "code",
   "execution_count": 250,
   "id": "e43ce5de",
   "metadata": {},
   "outputs": [],
   "source": [
    "driver = webdriver.Chrome(r'chromedriver')\n",
    "driver.get('https:www.flipkart.com')"
   ]
  },
  {
   "cell_type": "code",
   "execution_count": 251,
   "id": "1a07867f",
   "metadata": {},
   "outputs": [],
   "source": [
    "close = driver.find_element(By.XPATH,'/html/body/div[2]/div/div/button')\n",
    "close.click()"
   ]
  },
  {
   "cell_type": "code",
   "execution_count": 252,
   "id": "2f269dc0",
   "metadata": {},
   "outputs": [],
   "source": [
    "search = driver.find_element(By.XPATH,'/html/body/div[1]/div/div[1]/div[1]/div[2]/div[2]/form/div/div/input')\n",
    "search.send_keys('oneplus nord')\n",
    "search.submit()"
   ]
  },
  {
   "cell_type": "code",
   "execution_count": 253,
   "id": "e1587757",
   "metadata": {},
   "outputs": [],
   "source": [
    "brand,name,color = [],[],[]\n",
    "for i in driver.find_elements(By.XPATH,'//div[@class = \"_4rR01T\"]'):\n",
    "    brand.append(i.text.split(' ')[0])\n",
    "    name.append(i.text)\n",
    "    co = i.text.split('(')[-1]\n",
    "    color.append(co.split(',')[0])"
   ]
  },
  {
   "cell_type": "code",
   "execution_count": 254,
   "id": "332ae4e5",
   "metadata": {},
   "outputs": [],
   "source": [
    "ram,rom,pc,display,battery = [],[],[],[],[]\n",
    "for i in driver.find_elements(By.XPATH,'//ul[@class=\"_1xgFaf\"]'):\n",
    "    display.append(i.text.split('\\n')[1])\n",
    "    battery.append(i.text.split('\\n')[-2])\n",
    "    \n",
    "    ra = i.text.split('\\n')[0]\n",
    "    ram.append(ra.split('|')[0])\n",
    "    rom.append(ra.split('|')[1])\n",
    "    \n",
    "    cam = i.text.split('\\n')[2]\n",
    "    pc.append(cam.split('|')[0])"
   ]
  },
  {
   "cell_type": "code",
   "execution_count": 266,
   "id": "0c2726a9",
   "metadata": {},
   "outputs": [],
   "source": [
    "price,link = [],[]\n",
    "for i in driver.find_elements(By.XPATH,'//div[@class=\"_30jeq3 _1_WHN1\"]'):\n",
    "    price.append(i.text)\n",
    "for i in driver.find_elements(By.XPATH,\"//a[@class = '_1fQZEK']\"):\n",
    "    link.append(i.get_attribute('href'))"
   ]
  },
  {
   "cell_type": "code",
   "execution_count": 268,
   "id": "21c831bb",
   "metadata": {},
   "outputs": [
    {
     "data": {
      "text/plain": [
       "(24, 24, 24, 24, 24, 24, 24, 24, 24, 24)"
      ]
     },
     "execution_count": 268,
     "metadata": {},
     "output_type": "execute_result"
    }
   ],
   "source": [
    "len(brand),len(name),len(color),len(ram),len(rom),len(pc),len(display),len(battery),len(price),len(link)"
   ]
  },
  {
   "cell_type": "code",
   "execution_count": 269,
   "id": "d4c0259b",
   "metadata": {},
   "outputs": [],
   "source": [
    "pho = pd.DataFrame({'Brand Name':brand,'Smartphone Name':name,'Color':color,'RAM':ram,'Storage(ROM)':rom,'Camera':pc,'Display':display,'Battery':battery,'Price':price,'URL':link})"
   ]
  },
  {
   "cell_type": "code",
   "execution_count": 271,
   "id": "87ef1904",
   "metadata": {},
   "outputs": [],
   "source": [
    "pho.to_csv('Phone.csv')"
   ]
  },
  {
   "cell_type": "code",
   "execution_count": 273,
   "id": "d335a565",
   "metadata": {},
   "outputs": [
    {
     "data": {
      "text/html": [
       "<div>\n",
       "<style scoped>\n",
       "    .dataframe tbody tr th:only-of-type {\n",
       "        vertical-align: middle;\n",
       "    }\n",
       "\n",
       "    .dataframe tbody tr th {\n",
       "        vertical-align: top;\n",
       "    }\n",
       "\n",
       "    .dataframe thead th {\n",
       "        text-align: right;\n",
       "    }\n",
       "</style>\n",
       "<table border=\"1\" class=\"dataframe\">\n",
       "  <thead>\n",
       "    <tr style=\"text-align: right;\">\n",
       "      <th></th>\n",
       "      <th>Unnamed: 0</th>\n",
       "      <th>Brand Name</th>\n",
       "      <th>Smartphone Name</th>\n",
       "      <th>Color</th>\n",
       "      <th>RAM</th>\n",
       "      <th>Storage(ROM)</th>\n",
       "      <th>Camera</th>\n",
       "      <th>Display</th>\n",
       "      <th>Battery</th>\n",
       "      <th>Price</th>\n",
       "      <th>URL</th>\n",
       "    </tr>\n",
       "  </thead>\n",
       "  <tbody>\n",
       "    <tr>\n",
       "      <th>0</th>\n",
       "      <td>0</td>\n",
       "      <td>OnePlus</td>\n",
       "      <td>OnePlus Nord CE 2 Lite 5G (Blue Tide, 128 GB)</td>\n",
       "      <td>Blue Tide</td>\n",
       "      <td>6 GB RAM</td>\n",
       "      <td>128 GB ROM</td>\n",
       "      <td>64MP Rear Camera</td>\n",
       "      <td>16.74 cm (6.59 inch) Display</td>\n",
       "      <td>5000 mAh Battery</td>\n",
       "      <td>₹19,858</td>\n",
       "      <td>https://www.flipkart.com/oneplus-nord-ce-2-lit...</td>\n",
       "    </tr>\n",
       "    <tr>\n",
       "      <th>1</th>\n",
       "      <td>1</td>\n",
       "      <td>OnePlus</td>\n",
       "      <td>OnePlus Nord CE 2 Lite 5G (Black Dusk, 128 GB)</td>\n",
       "      <td>Black Dusk</td>\n",
       "      <td>6 GB RAM</td>\n",
       "      <td>128 GB ROM</td>\n",
       "      <td>64MP Rear Camera</td>\n",
       "      <td>16.74 cm (6.59 inch) Display</td>\n",
       "      <td>5000 mAh Battery</td>\n",
       "      <td>₹19,900</td>\n",
       "      <td>https://www.flipkart.com/oneplus-nord-ce-2-lit...</td>\n",
       "    </tr>\n",
       "    <tr>\n",
       "      <th>2</th>\n",
       "      <td>2</td>\n",
       "      <td>OnePlus</td>\n",
       "      <td>OnePlus Nord CE 2 Lite 5G (Blue Tide, 128 GB)</td>\n",
       "      <td>Blue Tide</td>\n",
       "      <td>8 GB RAM</td>\n",
       "      <td>128 GB ROM</td>\n",
       "      <td>64MP Rear Camera</td>\n",
       "      <td>16.74 cm (6.59 inch) Display</td>\n",
       "      <td>5000 mAh Battery</td>\n",
       "      <td>₹21,999</td>\n",
       "      <td>https://www.flipkart.com/oneplus-nord-ce-2-lit...</td>\n",
       "    </tr>\n",
       "    <tr>\n",
       "      <th>3</th>\n",
       "      <td>3</td>\n",
       "      <td>OnePlus</td>\n",
       "      <td>OnePlus Nord 2T 5G (Jade Fog, 128 GB)</td>\n",
       "      <td>Jade Fog</td>\n",
       "      <td>8 GB RAM</td>\n",
       "      <td>128 GB ROM</td>\n",
       "      <td>50MP Rear Camera</td>\n",
       "      <td>17.02 cm (6.7 inch) Display</td>\n",
       "      <td>4500 mAh Battery</td>\n",
       "      <td>₹28,999</td>\n",
       "      <td>https://www.flipkart.com/oneplus-nord-2t-5g-ja...</td>\n",
       "    </tr>\n",
       "    <tr>\n",
       "      <th>4</th>\n",
       "      <td>4</td>\n",
       "      <td>OnePlus</td>\n",
       "      <td>OnePlus Nord 2 5G (Blue Haze, 128 GB)</td>\n",
       "      <td>Blue Haze</td>\n",
       "      <td>8 GB RAM</td>\n",
       "      <td>128 GB ROM</td>\n",
       "      <td>50MP Rear Camera</td>\n",
       "      <td>16.33 cm (6.43 inch) Display</td>\n",
       "      <td>4500 mAh Battery</td>\n",
       "      <td>₹29,125</td>\n",
       "      <td>https://www.flipkart.com/oneplus-nord-2-5g-blu...</td>\n",
       "    </tr>\n",
       "  </tbody>\n",
       "</table>\n",
       "</div>"
      ],
      "text/plain": [
       "   Unnamed: 0 Brand Name                                 Smartphone Name  \\\n",
       "0           0    OnePlus   OnePlus Nord CE 2 Lite 5G (Blue Tide, 128 GB)   \n",
       "1           1    OnePlus  OnePlus Nord CE 2 Lite 5G (Black Dusk, 128 GB)   \n",
       "2           2    OnePlus   OnePlus Nord CE 2 Lite 5G (Blue Tide, 128 GB)   \n",
       "3           3    OnePlus           OnePlus Nord 2T 5G (Jade Fog, 128 GB)   \n",
       "4           4    OnePlus           OnePlus Nord 2 5G (Blue Haze, 128 GB)   \n",
       "\n",
       "        Color        RAM Storage(ROM)             Camera  \\\n",
       "0   Blue Tide  6 GB RAM    128 GB ROM  64MP Rear Camera    \n",
       "1  Black Dusk  6 GB RAM    128 GB ROM   64MP Rear Camera   \n",
       "2   Blue Tide  8 GB RAM    128 GB ROM   64MP Rear Camera   \n",
       "3    Jade Fog  8 GB RAM    128 GB ROM   50MP Rear Camera   \n",
       "4   Blue Haze  8 GB RAM    128 GB ROM   50MP Rear Camera   \n",
       "\n",
       "                        Display           Battery    Price  \\\n",
       "0  16.74 cm (6.59 inch) Display  5000 mAh Battery  ₹19,858   \n",
       "1  16.74 cm (6.59 inch) Display  5000 mAh Battery  ₹19,900   \n",
       "2  16.74 cm (6.59 inch) Display  5000 mAh Battery  ₹21,999   \n",
       "3   17.02 cm (6.7 inch) Display  4500 mAh Battery  ₹28,999   \n",
       "4  16.33 cm (6.43 inch) Display  4500 mAh Battery  ₹29,125   \n",
       "\n",
       "                                                 URL  \n",
       "0  https://www.flipkart.com/oneplus-nord-ce-2-lit...  \n",
       "1  https://www.flipkart.com/oneplus-nord-ce-2-lit...  \n",
       "2  https://www.flipkart.com/oneplus-nord-ce-2-lit...  \n",
       "3  https://www.flipkart.com/oneplus-nord-2t-5g-ja...  \n",
       "4  https://www.flipkart.com/oneplus-nord-2-5g-blu...  "
      ]
     },
     "execution_count": 273,
     "metadata": {},
     "output_type": "execute_result"
    }
   ],
   "source": [
    "pd.read_csv('Phone.csv').head()"
   ]
  },
  {
   "cell_type": "code",
   "execution_count": 275,
   "id": "c6247290",
   "metadata": {},
   "outputs": [],
   "source": [
    "driver.close()"
   ]
  },
  {
   "cell_type": "markdown",
   "id": "3133bd26",
   "metadata": {},
   "source": [
    "# 5. Write a program to scrap geospatial coordinates (latitude, longitude) of a city searched on google maps."
   ]
  },
  {
   "cell_type": "code",
   "execution_count": 22,
   "id": "1a772b50",
   "metadata": {},
   "outputs": [],
   "source": [
    "driver = webdriver.Chrome(r'chromedriver')\n",
    "driver.get('https://www.google.com/maps')"
   ]
  },
  {
   "cell_type": "code",
   "execution_count": 23,
   "id": "0ccb715b",
   "metadata": {},
   "outputs": [],
   "source": [
    "search = driver.find_element(By.XPATH,'/html/body/div[3]/div[9]/div[3]/div[1]/div[1]/div[1]/div[2]/form/div[2]/div[3]/div/input[1]')\n",
    "search.send_keys('Mumbai')"
   ]
  },
  {
   "cell_type": "code",
   "execution_count": 24,
   "id": "c132bc55",
   "metadata": {},
   "outputs": [],
   "source": [
    "loc = driver.find_element(By.XPATH,'/html/body/div[3]/div[9]/div[3]/div[1]/div[1]/div[2]/div[2]/div[1]/div/div/div[1]/div/div[2]/div/div/div[1]')\n",
    "loc.click()"
   ]
  },
  {
   "cell_type": "code",
   "execution_count": 25,
   "id": "9140a720",
   "metadata": {},
   "outputs": [],
   "source": [
    "time.sleep(5)\n",
    "url = driver.current_url"
   ]
  },
  {
   "cell_type": "code",
   "execution_count": 26,
   "id": "24c525c4",
   "metadata": {},
   "outputs": [],
   "source": [
    "ll = url.split('/')[-2]"
   ]
  },
  {
   "cell_type": "code",
   "execution_count": 27,
   "id": "c1df4229",
   "metadata": {},
   "outputs": [],
   "source": [
    "lat = ll.split(',')[0].replace('@','')\n",
    "lon = ll.split(',')[1]"
   ]
  },
  {
   "cell_type": "code",
   "execution_count": 28,
   "id": "4905849b",
   "metadata": {},
   "outputs": [
    {
     "name": "stdout",
     "output_type": "stream",
     "text": [
      "Latitude =  19.0821978\n",
      "Longitude =  72.7410979\n"
     ]
    }
   ],
   "source": [
    "print('Latitude = ',lat)\n",
    "print('Longitude = ',lon)"
   ]
  },
  {
   "cell_type": "code",
   "execution_count": 29,
   "id": "7c95b5d6",
   "metadata": {},
   "outputs": [],
   "source": [
    "driver.close()"
   ]
  },
  {
   "cell_type": "markdown",
   "id": "00cfe982",
   "metadata": {},
   "source": [
    "# 6. Write a program to scrap all the available details of best gaming laptops from digit.in."
   ]
  },
  {
   "cell_type": "code",
   "execution_count": 298,
   "id": "67c8533e",
   "metadata": {},
   "outputs": [],
   "source": [
    "driver = webdriver.Chrome(r'chromedriver')\n",
    "driver.get('https://www.digit.in')"
   ]
  },
  {
   "cell_type": "code",
   "execution_count": 300,
   "id": "0963f803",
   "metadata": {},
   "outputs": [],
   "source": [
    "search = driver.find_element(By.XPATH,'/html/body/div[1]/div/div[3]/div[2]/a/img')\n",
    "search.click()\n",
    "delay = 2\n",
    "here = driver.find_element(By.XPATH,'/html/body/div[2]/div[2]/div/div/input')\n",
    "here.send_keys('Best gaming laptop' + '\\n')"
   ]
  },
  {
   "cell_type": "code",
   "execution_count": 310,
   "id": "fd8ddb32",
   "metadata": {},
   "outputs": [],
   "source": [
    "laptop,date = [],[]\n",
    "for i in driver.find_elements(By.XPATH,'//div[@class=\"searchProduct-desc\"]'):\n",
    "    laptop.append(i.text)\n",
    "for i in driver.find_elements(By.XPATH,'//div[@class = \"searchPage\"]'):\n",
    "    date.append(i.text.split('\\n')[-1])"
   ]
  },
  {
   "cell_type": "code",
   "execution_count": 313,
   "id": "c3dea952",
   "metadata": {},
   "outputs": [
    {
     "data": {
      "text/plain": [
       "(10, 10)"
      ]
     },
     "execution_count": 313,
     "metadata": {},
     "output_type": "execute_result"
    }
   ],
   "source": [
    "len(date),len(laptop)"
   ]
  },
  {
   "cell_type": "code",
   "execution_count": 314,
   "id": "25d0b904",
   "metadata": {},
   "outputs": [],
   "source": [
    "dig = pd.DataFrame({'Laptop Name':laptop,'Date':date})"
   ]
  },
  {
   "cell_type": "code",
   "execution_count": 315,
   "id": "62c01bd7",
   "metadata": {},
   "outputs": [],
   "source": [
    "dig.to_csv('digit.csv')"
   ]
  },
  {
   "cell_type": "code",
   "execution_count": 316,
   "id": "b52af895",
   "metadata": {},
   "outputs": [
    {
     "data": {
      "text/html": [
       "<div>\n",
       "<style scoped>\n",
       "    .dataframe tbody tr th:only-of-type {\n",
       "        vertical-align: middle;\n",
       "    }\n",
       "\n",
       "    .dataframe tbody tr th {\n",
       "        vertical-align: top;\n",
       "    }\n",
       "\n",
       "    .dataframe thead th {\n",
       "        text-align: right;\n",
       "    }\n",
       "</style>\n",
       "<table border=\"1\" class=\"dataframe\">\n",
       "  <thead>\n",
       "    <tr style=\"text-align: right;\">\n",
       "      <th></th>\n",
       "      <th>Unnamed: 0</th>\n",
       "      <th>Laptop Name</th>\n",
       "      <th>Date</th>\n",
       "    </tr>\n",
       "  </thead>\n",
       "  <tbody>\n",
       "    <tr>\n",
       "      <th>0</th>\n",
       "      <td>0</td>\n",
       "      <td>Asus G750JX-CV069P</td>\n",
       "      <td>Nov 22, 2021</td>\n",
       "    </tr>\n",
       "    <tr>\n",
       "      <th>1</th>\n",
       "      <td>1</td>\n",
       "      <td>MSI GE60 2PE</td>\n",
       "      <td>Apr 09, 2019</td>\n",
       "    </tr>\n",
       "    <tr>\n",
       "      <th>2</th>\n",
       "      <td>2</td>\n",
       "      <td>Asus TUF Gaming FX505</td>\n",
       "      <td>Jun 21, 2022</td>\n",
       "    </tr>\n",
       "    <tr>\n",
       "      <th>3</th>\n",
       "      <td>3</td>\n",
       "      <td>Dell Alienware (17-inch)</td>\n",
       "      <td>Nov 08, 2021</td>\n",
       "    </tr>\n",
       "    <tr>\n",
       "      <th>4</th>\n",
       "      <td>4</td>\n",
       "      <td>Sony PlayStation Vita</td>\n",
       "      <td>Feb 18, 2012</td>\n",
       "    </tr>\n",
       "  </tbody>\n",
       "</table>\n",
       "</div>"
      ],
      "text/plain": [
       "   Unnamed: 0               Laptop Name          Date\n",
       "0           0        Asus G750JX-CV069P  Nov 22, 2021\n",
       "1           1              MSI GE60 2PE  Apr 09, 2019\n",
       "2           2     Asus TUF Gaming FX505  Jun 21, 2022\n",
       "3           3  Dell Alienware (17-inch)  Nov 08, 2021\n",
       "4           4     Sony PlayStation Vita  Feb 18, 2012"
      ]
     },
     "execution_count": 316,
     "metadata": {},
     "output_type": "execute_result"
    }
   ],
   "source": [
    "pd.read_csv('digit.csv').head()"
   ]
  },
  {
   "cell_type": "markdown",
   "id": "d670a230",
   "metadata": {},
   "source": [
    "# 7. Write a python program to scrape the details for all billionaires from www.forbes.com. Details to be scrapped: “Rank”, “Name”, “Net worth”, “Age”, “Citizenship”, “Source”, “Industry”."
   ]
  },
  {
   "cell_type": "code",
   "execution_count": 359,
   "id": "0190bc96",
   "metadata": {},
   "outputs": [],
   "source": [
    "driver = webdriver.Chrome(r'chromedriver')\n",
    "driver.get('https://www.forbes.com')"
   ]
  },
  {
   "cell_type": "code",
   "execution_count": 360,
   "id": "958c67c5",
   "metadata": {},
   "outputs": [],
   "source": [
    "expl = driver.find_element(By.XPATH,'/html/body/div[1]/header/nav/div[1]/button[1]')\n",
    "expl.click()\n",
    "time.sleep(2)"
   ]
  },
  {
   "cell_type": "code",
   "execution_count": 361,
   "id": "31fae77e",
   "metadata": {},
   "outputs": [],
   "source": [
    "bill = driver.find_element(By.XPATH,'/html/body/div[1]/header/nav/div[3]/ul/li[1]')\n",
    "bill.click()"
   ]
  },
  {
   "cell_type": "code",
   "execution_count": 362,
   "id": "f3f13b9c",
   "metadata": {},
   "outputs": [],
   "source": [
    "al = driver.find_element(By.XPATH,'/html/body/div[1]/header/nav/div[3]/ul/li[1]/div[2]/ul/li[2]/a')\n",
    "al.click()\n",
    "time.sleep(2)"
   ]
  },
  {
   "cell_type": "code",
   "execution_count": 364,
   "id": "0c7f6ef9",
   "metadata": {},
   "outputs": [],
   "source": [
    "rank,nam,net,age,sou,indust = [],[],[],[],[],[]\n",
    "for i in driver.find_elements(By.XPATH,'//div[@class=\"table-row \"]'):\n",
    "    rank.append(i.text.split('\\n')[0])\n",
    "    nam.append(i.text.split('\\n')[1])\n",
    "    net.append(i.text.split('\\n')[2])\n",
    "    age.append(i.text.split('\\n')[3])\n",
    "    sou.append(i.text.split('\\n')[4])\n",
    "    indust.append(i.text.split('\\n')[5])"
   ]
  },
  {
   "cell_type": "code",
   "execution_count": 367,
   "id": "e2022c94",
   "metadata": {
    "scrolled": false
   },
   "outputs": [
    {
     "data": {
      "text/plain": [
       "(200, 200, 200, 200, 200, 200)"
      ]
     },
     "execution_count": 367,
     "metadata": {},
     "output_type": "execute_result"
    }
   ],
   "source": [
    "len(rank),len(nam),len(net),len(age),len(sou),len(indust)"
   ]
  },
  {
   "cell_type": "code",
   "execution_count": 368,
   "id": "bca193aa",
   "metadata": {},
   "outputs": [],
   "source": [
    "billa = pd.DataFrame({'Rank':rank,'Name':nam,'Net Worth':net,'Age':age,'Source':sou,'Industry':indust})"
   ]
  },
  {
   "cell_type": "code",
   "execution_count": 370,
   "id": "6d2ea2d6",
   "metadata": {},
   "outputs": [],
   "source": [
    "billa.to_csv('Billionaries.csv')"
   ]
  },
  {
   "cell_type": "code",
   "execution_count": 372,
   "id": "0f7503bb",
   "metadata": {},
   "outputs": [
    {
     "data": {
      "text/html": [
       "<div>\n",
       "<style scoped>\n",
       "    .dataframe tbody tr th:only-of-type {\n",
       "        vertical-align: middle;\n",
       "    }\n",
       "\n",
       "    .dataframe tbody tr th {\n",
       "        vertical-align: top;\n",
       "    }\n",
       "\n",
       "    .dataframe thead th {\n",
       "        text-align: right;\n",
       "    }\n",
       "</style>\n",
       "<table border=\"1\" class=\"dataframe\">\n",
       "  <thead>\n",
       "    <tr style=\"text-align: right;\">\n",
       "      <th></th>\n",
       "      <th>Unnamed: 0</th>\n",
       "      <th>Rank</th>\n",
       "      <th>Name</th>\n",
       "      <th>Net Worth</th>\n",
       "      <th>Age</th>\n",
       "      <th>Source</th>\n",
       "      <th>Industry</th>\n",
       "    </tr>\n",
       "  </thead>\n",
       "  <tbody>\n",
       "    <tr>\n",
       "      <th>0</th>\n",
       "      <td>0</td>\n",
       "      <td>1.0</td>\n",
       "      <td>Elon Musk</td>\n",
       "      <td>$219 B</td>\n",
       "      <td>50.0</td>\n",
       "      <td>United States</td>\n",
       "      <td>Tesla, SpaceX</td>\n",
       "    </tr>\n",
       "    <tr>\n",
       "      <th>1</th>\n",
       "      <td>1</td>\n",
       "      <td>2.0</td>\n",
       "      <td>Jeff Bezos</td>\n",
       "      <td>$171 B</td>\n",
       "      <td>58.0</td>\n",
       "      <td>United States</td>\n",
       "      <td>Amazon</td>\n",
       "    </tr>\n",
       "    <tr>\n",
       "      <th>2</th>\n",
       "      <td>2</td>\n",
       "      <td>3.0</td>\n",
       "      <td>Bernard Arnault &amp; family</td>\n",
       "      <td>$158 B</td>\n",
       "      <td>73.0</td>\n",
       "      <td>France</td>\n",
       "      <td>LVMH</td>\n",
       "    </tr>\n",
       "    <tr>\n",
       "      <th>3</th>\n",
       "      <td>3</td>\n",
       "      <td>4.0</td>\n",
       "      <td>Bill Gates</td>\n",
       "      <td>$129 B</td>\n",
       "      <td>66.0</td>\n",
       "      <td>United States</td>\n",
       "      <td>Microsoft</td>\n",
       "    </tr>\n",
       "    <tr>\n",
       "      <th>4</th>\n",
       "      <td>4</td>\n",
       "      <td>5.0</td>\n",
       "      <td>Warren Buffett</td>\n",
       "      <td>$118 B</td>\n",
       "      <td>91.0</td>\n",
       "      <td>United States</td>\n",
       "      <td>Berkshire Hathaway</td>\n",
       "    </tr>\n",
       "  </tbody>\n",
       "</table>\n",
       "</div>"
      ],
      "text/plain": [
       "   Unnamed: 0  Rank                      Name Net Worth   Age         Source  \\\n",
       "0           0   1.0                 Elon Musk    $219 B  50.0  United States   \n",
       "1           1   2.0                Jeff Bezos    $171 B  58.0  United States   \n",
       "2           2   3.0  Bernard Arnault & family    $158 B  73.0         France   \n",
       "3           3   4.0                Bill Gates    $129 B  66.0  United States   \n",
       "4           4   5.0            Warren Buffett    $118 B  91.0  United States   \n",
       "\n",
       "             Industry  \n",
       "0       Tesla, SpaceX  \n",
       "1              Amazon  \n",
       "2                LVMH  \n",
       "3           Microsoft  \n",
       "4  Berkshire Hathaway  "
      ]
     },
     "execution_count": 372,
     "metadata": {},
     "output_type": "execute_result"
    }
   ],
   "source": [
    "pd.read_csv('Billionaries.csv').head()"
   ]
  },
  {
   "cell_type": "code",
   "execution_count": 373,
   "id": "b41bae1e",
   "metadata": {},
   "outputs": [],
   "source": [
    "driver.close()"
   ]
  },
  {
   "cell_type": "markdown",
   "id": "2dbccbbd",
   "metadata": {},
   "source": [
    "# 8. Write a program to extract at least 500 Comments, Comment upvote and time when comment was posted from any YouTube Video."
   ]
  },
  {
   "cell_type": "code",
   "execution_count": 117,
   "id": "7627c193",
   "metadata": {},
   "outputs": [],
   "source": [
    "driver = webdriver.Chrome(r'chromedriver')\n",
    "driver.get('https://www.youtube.com')"
   ]
  },
  {
   "cell_type": "code",
   "execution_count": 134,
   "id": "c0119369",
   "metadata": {},
   "outputs": [],
   "source": [
    "search = driver.find_element(By.XPATH,'/html/body/ytd-app/div[1]/div/ytd-masthead/div[3]/div[2]/ytd-searchbox/form/div[1]/div[1]/input')\n",
    "search.send_keys('Chaand Baaliyan - Aditya A. (Official Video)')\n",
    "search.submit()\n",
    "delay = 5"
   ]
  },
  {
   "cell_type": "code",
   "execution_count": 135,
   "id": "009596e2",
   "metadata": {},
   "outputs": [],
   "source": [
    "song = driver.find_element(By.XPATH,'/html/body/ytd-app/div[1]/ytd-page-manager/ytd-search/div[1]/ytd-two-column-search-results-renderer/div/ytd-section-list-renderer/div[2]/ytd-item-section-renderer/div[3]/ytd-video-renderer[1]/div[1]/div/div[1]/div/h3/a/yt-formatted-string')\n",
    "song.click()"
   ]
  },
  {
   "cell_type": "code",
   "execution_count": 136,
   "id": "3c550aa1",
   "metadata": {},
   "outputs": [],
   "source": [
    "for _ in range(1000):\n",
    "    driver.execute_script(\"window.scrollBy(0,1000)\")"
   ]
  },
  {
   "cell_type": "code",
   "execution_count": 146,
   "id": "a99a73cf",
   "metadata": {},
   "outputs": [],
   "source": [
    "op = []\n",
    "for i in driver.find_elements(By.XPATH,'//div[@class=\"style-scope ytd-expander\"]'):\n",
    "    op.append(i.text)"
   ]
  },
  {
   "cell_type": "code",
   "execution_count": 154,
   "id": "f6cf0409",
   "metadata": {},
   "outputs": [],
   "source": [
    "time = []\n",
    "for i in driver.find_elements(By.XPATH,'//a[@class=\"yt-simple-endpoint style-scope yt-formatted-string\"]'):\n",
    "    time.append(i.text)"
   ]
  },
  {
   "cell_type": "code",
   "execution_count": 164,
   "id": "d673cf59",
   "metadata": {},
   "outputs": [],
   "source": [
    "ti = time[79:579]"
   ]
  },
  {
   "cell_type": "code",
   "execution_count": 152,
   "id": "b030aaa7",
   "metadata": {},
   "outputs": [],
   "source": [
    "co = op[2:502]"
   ]
  },
  {
   "cell_type": "code",
   "execution_count": 165,
   "id": "e297afb8",
   "metadata": {},
   "outputs": [
    {
     "data": {
      "text/plain": [
       "(500, 500)"
      ]
     },
     "execution_count": 165,
     "metadata": {},
     "output_type": "execute_result"
    }
   ],
   "source": [
    "len(ti),len(co)"
   ]
  },
  {
   "cell_type": "code",
   "execution_count": 167,
   "id": "548f1c62",
   "metadata": {},
   "outputs": [],
   "source": [
    "comment = pd.DataFrame({'Comments':co,'Time':ti})"
   ]
  },
  {
   "cell_type": "code",
   "execution_count": 168,
   "id": "034c6c89",
   "metadata": {},
   "outputs": [],
   "source": [
    "comment.to_csv('Youtube.csv')"
   ]
  },
  {
   "cell_type": "code",
   "execution_count": 170,
   "id": "b97e988c",
   "metadata": {},
   "outputs": [
    {
     "data": {
      "text/html": [
       "<div>\n",
       "<style scoped>\n",
       "    .dataframe tbody tr th:only-of-type {\n",
       "        vertical-align: middle;\n",
       "    }\n",
       "\n",
       "    .dataframe tbody tr th {\n",
       "        vertical-align: top;\n",
       "    }\n",
       "\n",
       "    .dataframe thead th {\n",
       "        text-align: right;\n",
       "    }\n",
       "</style>\n",
       "<table border=\"1\" class=\"dataframe\">\n",
       "  <thead>\n",
       "    <tr style=\"text-align: right;\">\n",
       "      <th></th>\n",
       "      <th>Unnamed: 0</th>\n",
       "      <th>Comments</th>\n",
       "      <th>Time</th>\n",
       "    </tr>\n",
       "  </thead>\n",
       "  <tbody>\n",
       "    <tr>\n",
       "      <th>495</th>\n",
       "      <td>495</td>\n",
       "      <td>Amazing</td>\n",
       "      <td>2 weeks ago</td>\n",
       "    </tr>\n",
       "    <tr>\n",
       "      <th>496</th>\n",
       "      <td>496</td>\n",
       "      <td>i love this song</td>\n",
       "      <td>1 month ago</td>\n",
       "    </tr>\n",
       "    <tr>\n",
       "      <th>497</th>\n",
       "      <td>497</td>\n",
       "      <td>Spotify bring me here.... \\nThose who have pre...</td>\n",
       "      <td>2 months ago</td>\n",
       "    </tr>\n",
       "    <tr>\n",
       "      <th>498</th>\n",
       "      <td>498</td>\n",
       "      <td>Beautiful and very soothing. Lirics absolutely...</td>\n",
       "      <td>1 month ago</td>\n",
       "    </tr>\n",
       "    <tr>\n",
       "      <th>499</th>\n",
       "      <td>499</td>\n",
       "      <td>This song very very nice</td>\n",
       "      <td>8 days ago</td>\n",
       "    </tr>\n",
       "  </tbody>\n",
       "</table>\n",
       "</div>"
      ],
      "text/plain": [
       "     Unnamed: 0                                           Comments  \\\n",
       "495         495                                           Amazing    \n",
       "496         496                                   i love this song   \n",
       "497         497  Spotify bring me here.... \\nThose who have pre...   \n",
       "498         498  Beautiful and very soothing. Lirics absolutely...   \n",
       "499         499                          This song very very nice    \n",
       "\n",
       "             Time  \n",
       "495   2 weeks ago  \n",
       "496   1 month ago  \n",
       "497  2 months ago  \n",
       "498   1 month ago  \n",
       "499    8 days ago  "
      ]
     },
     "execution_count": 170,
     "metadata": {},
     "output_type": "execute_result"
    }
   ],
   "source": [
    "df = pd.read_csv('Youtube.csv')\n",
    "df.tail()"
   ]
  },
  {
   "cell_type": "markdown",
   "id": "94de7b6a",
   "metadata": {},
   "source": [
    "# 9. Write a python program to scrape a data for all available Hostels from https://www.hostelworld.com/ in “London” location. You have to scrape hostel name, distance from city centre, ratings, total reviews, overall reviews, privates from price, dorms from price, facilities and property description"
   ]
  },
  {
   "cell_type": "code",
   "execution_count": 247,
   "id": "9c2978a0",
   "metadata": {},
   "outputs": [],
   "source": [
    "driver = webdriver.Chrome(r'chromedriver')\n",
    "driver.get('https://www.hostelworld.com')"
   ]
  },
  {
   "cell_type": "code",
   "execution_count": 232,
   "id": "115fffa7",
   "metadata": {},
   "outputs": [],
   "source": [
    "try:\n",
    "    search = driver.find_element(By.XPATH,'/html/body/div[3]/div/div/div[1]/div[1]/div/div[2]/div[4]/div/div[2]/div/div[1]/div/div/div/input')\n",
    "    search.send_keys('london' + '\\n')\n",
    "    \n",
    "    lon = driver.find_element(By.XPATH,'/html/body/div[3]/div/div/div[1]/div[1]/div/div[2]/div[4]/div/div[2]/div/div[1]/div/div/ul/li[2]')\n",
    "    lon.click()\n",
    "    \n",
    "    \n",
    "    go = driver.find_element(By.XPATH,'/html/body/div[3]/div/div/div[1]/div[1]/div/div[2]/div[4]/div/div[2]/div/div[5]/button')\n",
    "    go.click()\n",
    "    \n",
    "    \n",
    "except NoSuchElementException:\n",
    "    driver.get('https://www.hostelworld.com/s?q=London,%20England&country=England&city=London&type=city&id=3&from=2022-08-01&to=2022-08-04&guests=2&HostelNumber=&page=1')"
   ]
  },
  {
   "cell_type": "code",
   "execution_count": 233,
   "id": "705c81a0",
   "metadata": {},
   "outputs": [],
   "source": [
    "name,dist,rat,price = [],[],[],[]\n",
    "for i in driver.find_elements(By.XPATH,'//div[@class=\"property\"]'):\n",
    "    name.append(i.text.split('\\n')[0])\n",
    "    dist.append(i.text.split('\\n')[1])\n",
    "    rat.append(i.text.split('\\n')[-3])\n",
    "    review.append(i.text.split('\\n')[-1])\n",
    "for i in driver.find_elements(By.XPATH,'//div[@class=\"price title-5\"]'):\n",
    "    price.append(i.text)"
   ]
  },
  {
   "cell_type": "code",
   "execution_count": 234,
   "id": "af29b8f8",
   "metadata": {},
   "outputs": [
    {
     "data": {
      "text/plain": [
       "(33, 33, 33, 36)"
      ]
     },
     "execution_count": 234,
     "metadata": {},
     "output_type": "execute_result"
    }
   ],
   "source": [
    "len(name),len(dist),len(rat),len(price)"
   ]
  },
  {
   "cell_type": "code",
   "execution_count": 235,
   "id": "afa348bb",
   "metadata": {},
   "outputs": [],
   "source": [
    "lin,des,fac,review = [],[],[],[]\n",
    "url = driver.find_elements(By.XPATH,'//a[@class=\"view-button\"]')\n",
    "for i in url:\n",
    "    lin.append(i.get_attribute('href'))"
   ]
  },
  {
   "cell_type": "code",
   "execution_count": 236,
   "id": "58b1ee63",
   "metadata": {},
   "outputs": [],
   "source": [
    "for i in lin:\n",
    "    driver.get(i)\n",
    "    time.sleep(2)\n",
    "    try:\n",
    "        de = driver.find_element(By.XPATH,'/html/body/div[3]/div/div/div[1]/section/div[6]/div/div[2]/div/div/div[2]')\n",
    "        des.append(de.text)\n",
    "        \n",
    "        fa = driver.find_element(By.XPATH,'/html/body/div[3]/div/div/div[1]/section/div[10]/div/ul')\n",
    "        fac.append(fa.text.replace('\\n',','))\n",
    "        \n",
    "        re = driver.find_element(By.XPATH,'/html/body/div[3]/div/div/div[1]/section/div[9]/div[1]/div/div[1]')\n",
    "        review.append(re.text)\n",
    "        \n",
    "    except NoSuchElementException:\n",
    "        des.append('-')"
   ]
  },
  {
   "cell_type": "code",
   "execution_count": 238,
   "id": "f00097db",
   "metadata": {},
   "outputs": [
    {
     "data": {
      "text/plain": [
       "(30, 44, 16)"
      ]
     },
     "execution_count": 238,
     "metadata": {},
     "output_type": "execute_result"
    }
   ],
   "source": [
    "len(fac),len(des),len(review)"
   ]
  },
  {
   "cell_type": "code",
   "execution_count": 239,
   "id": "fff7a2ea",
   "metadata": {},
   "outputs": [],
   "source": [
    "lon = pd.DataFrame({'Hostel Name':name[0:30], 'Distance from City Centre':dist[0:30], 'Rating':rat[0:30], 'Price':price[0:30], 'Facilities':fac[0:30], 'Property Description':des[0:30]})"
   ]
  },
  {
   "cell_type": "code",
   "execution_count": 241,
   "id": "6452e341",
   "metadata": {},
   "outputs": [],
   "source": [
    "lon.to_csv('Hostel.csv')"
   ]
  },
  {
   "cell_type": "code",
   "execution_count": 244,
   "id": "1f87c0fb",
   "metadata": {},
   "outputs": [
    {
     "data": {
      "text/html": [
       "<div>\n",
       "<style scoped>\n",
       "    .dataframe tbody tr th:only-of-type {\n",
       "        vertical-align: middle;\n",
       "    }\n",
       "\n",
       "    .dataframe tbody tr th {\n",
       "        vertical-align: top;\n",
       "    }\n",
       "\n",
       "    .dataframe thead th {\n",
       "        text-align: right;\n",
       "    }\n",
       "</style>\n",
       "<table border=\"1\" class=\"dataframe\">\n",
       "  <thead>\n",
       "    <tr style=\"text-align: right;\">\n",
       "      <th></th>\n",
       "      <th>Unnamed: 0</th>\n",
       "      <th>Hostel Name</th>\n",
       "      <th>Distance from City Centre</th>\n",
       "      <th>Rating</th>\n",
       "      <th>Price</th>\n",
       "      <th>Facilities</th>\n",
       "      <th>Property Description</th>\n",
       "    </tr>\n",
       "  </thead>\n",
       "  <tbody>\n",
       "    <tr>\n",
       "      <th>0</th>\n",
       "      <td>0</td>\n",
       "      <td>Palmers Lodge - Swiss Cottage</td>\n",
       "      <td>Hostel - 6.5km from city centre</td>\n",
       "      <td>8.8</td>\n",
       "      <td>Rs1901</td>\n",
       "      <td>Free,Linen Included Free City Maps Free WiFi F...</td>\n",
       "      <td>Whether you're a backpacker, flash-packer or a...</td>\n",
       "    </tr>\n",
       "    <tr>\n",
       "      <th>1</th>\n",
       "      <td>1</td>\n",
       "      <td>Selina Camden</td>\n",
       "      <td>Hostel - 5.5km from city centre</td>\n",
       "      <td>8.6</td>\n",
       "      <td>Rs25504</td>\n",
       "      <td>Free,Linen Included Towels Included Free WiFi,...</td>\n",
       "      <td>Among underground music venues, innovative mus...</td>\n",
       "    </tr>\n",
       "    <tr>\n",
       "      <th>2</th>\n",
       "      <td>2</td>\n",
       "      <td>St Christopher's Village</td>\n",
       "      <td>Hostel - 1.8km from city centre</td>\n",
       "      <td>8.1</td>\n",
       "      <td>Rs9312.71 Rs7916</td>\n",
       "      <td>Free,Linen Included Free City Maps Free WiFi F...</td>\n",
       "      <td>COVID 19 Policy Update.\\nIn response to Corona...</td>\n",
       "    </tr>\n",
       "    <tr>\n",
       "      <th>3</th>\n",
       "      <td>3</td>\n",
       "      <td>Palmers Lodge - Swiss Cottage</td>\n",
       "      <td>Hostel - 6.5km from city centre Show on Map</td>\n",
       "      <td>8.8</td>\n",
       "      <td>Rs1770.01 Rs1593</td>\n",
       "      <td>Free,Linen Included Free City Maps Free WiFi F...</td>\n",
       "      <td>A safe haven in the middle of the metropolis: ...</td>\n",
       "    </tr>\n",
       "    <tr>\n",
       "      <th>4</th>\n",
       "      <td>4</td>\n",
       "      <td>Selina Camden</td>\n",
       "      <td>Hostel - 5.5km from city centre Show on Map</td>\n",
       "      <td>8.6</td>\n",
       "      <td>Rs16492.65 Rs13689</td>\n",
       "      <td>Security,8.4,Location,8.9,Staff,7.9,Atmosphere...</td>\n",
       "      <td>Generator London is a design hotel-hostel loca...</td>\n",
       "    </tr>\n",
       "  </tbody>\n",
       "</table>\n",
       "</div>"
      ],
      "text/plain": [
       "   Unnamed: 0                    Hostel Name  \\\n",
       "0           0  Palmers Lodge - Swiss Cottage   \n",
       "1           1                  Selina Camden   \n",
       "2           2       St Christopher's Village   \n",
       "3           3  Palmers Lodge - Swiss Cottage   \n",
       "4           4                  Selina Camden   \n",
       "\n",
       "                     Distance from City Centre  Rating               Price  \\\n",
       "0              Hostel - 6.5km from city centre     8.8              Rs1901   \n",
       "1              Hostel - 5.5km from city centre     8.6             Rs25504   \n",
       "2              Hostel - 1.8km from city centre     8.1    Rs9312.71 Rs7916   \n",
       "3  Hostel - 6.5km from city centre Show on Map     8.8    Rs1770.01 Rs1593   \n",
       "4  Hostel - 5.5km from city centre Show on Map     8.6  Rs16492.65 Rs13689   \n",
       "\n",
       "                                          Facilities  \\\n",
       "0  Free,Linen Included Free City Maps Free WiFi F...   \n",
       "1  Free,Linen Included Towels Included Free WiFi,...   \n",
       "2  Free,Linen Included Free City Maps Free WiFi F...   \n",
       "3  Free,Linen Included Free City Maps Free WiFi F...   \n",
       "4  Security,8.4,Location,8.9,Staff,7.9,Atmosphere...   \n",
       "\n",
       "                                Property Description  \n",
       "0  Whether you're a backpacker, flash-packer or a...  \n",
       "1  Among underground music venues, innovative mus...  \n",
       "2  COVID 19 Policy Update.\\nIn response to Corona...  \n",
       "3  A safe haven in the middle of the metropolis: ...  \n",
       "4  Generator London is a design hotel-hostel loca...  "
      ]
     },
     "execution_count": 244,
     "metadata": {},
     "output_type": "execute_result"
    }
   ],
   "source": [
    "df = pd.read_csv('Hostel.csv')\n",
    "df.head(5)"
   ]
  },
  {
   "cell_type": "code",
   "execution_count": 248,
   "id": "135544ed",
   "metadata": {},
   "outputs": [],
   "source": [
    "driver.close()"
   ]
  }
 ],
 "metadata": {
  "kernelspec": {
   "display_name": "Python 3 (ipykernel)",
   "language": "python",
   "name": "python3"
  },
  "language_info": {
   "codemirror_mode": {
    "name": "ipython",
    "version": 3
   },
   "file_extension": ".py",
   "mimetype": "text/x-python",
   "name": "python",
   "nbconvert_exporter": "python",
   "pygments_lexer": "ipython3",
   "version": "3.9.7"
  }
 },
 "nbformat": 4,
 "nbformat_minor": 5
}
